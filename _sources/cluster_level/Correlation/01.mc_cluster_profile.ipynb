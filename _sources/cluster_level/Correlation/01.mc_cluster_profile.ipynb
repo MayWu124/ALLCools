{
 "cells": [
  {
   "cell_type": "markdown",
   "metadata": {},
   "source": [
    "# Prepare Cluster-by-Gene mC Profile"
   ]
  },
  {
   "cell_type": "code",
   "execution_count": 24,
   "metadata": {
    "ExecuteTime": {
     "end_time": "2022-01-04T05:04:33.844148Z",
     "start_time": "2022-01-04T05:04:33.841128Z"
    }
   },
   "outputs": [],
   "source": [
    "import pandas as pd\n",
    "from ALLCools.mcds import MCDS\n",
    "from ALLCools.clustering import cluster_enriched_features"
   ]
  },
  {
   "cell_type": "code",
   "execution_count": 2,
   "metadata": {
    "ExecuteTime": {
     "end_time": "2022-01-04T04:57:14.237324Z",
     "start_time": "2022-01-04T04:57:14.181893Z"
    }
   },
   "outputs": [],
   "source": [
    "mc_cluster = pd.read_csv(\n",
    "    '/home/hanliu/cemba3c/projects/ALLCools/HIPBulk/DesideBulkLevel/snmC.anno.csv',\n",
    "    header=None,\n",
    "    index_col=0,\n",
    "    squeeze=True)\n",
    "\n",
    "m3c_cluster = pd.read_csv(\n",
    "    '/home/hanliu/cemba3c/projects/ALLCools/HIPBulk/DesideBulkLevel/snm3C.anno.csv',\n",
    "    header=None,\n",
    "    index_col=0,\n",
    "    squeeze=True)\n",
    "\n",
    "mc_cluster = 'snmC_' + mc_cluster\n",
    "m3c_cluster = 'snm3C_' + m3c_cluster\n",
    "cell_cluster = pd.concat([mc_cluster, m3c_cluster])\n",
    "cell_cluster.index.name = 'cell'\n",
    "cell_cluster.name = 'sample'"
   ]
  },
  {
   "cell_type": "code",
   "execution_count": 3,
   "metadata": {
    "ExecuteTime": {
     "end_time": "2022-01-04T04:57:21.493477Z",
     "start_time": "2022-01-04T04:57:15.981654Z"
    }
   },
   "outputs": [
    {
     "name": "stdout",
     "output_type": "stream",
     "text": [
      "Open MCDS with netcdf4 engine.\n"
     ]
    }
   ],
   "source": [
    "mcds = MCDS.open('/home/hanliu/cemba3c/projects/ALLCools/Brain/snm*C-seq*/*.mcds')"
   ]
  },
  {
   "cell_type": "code",
   "execution_count": 4,
   "metadata": {
    "ExecuteTime": {
     "end_time": "2022-01-04T04:57:25.421620Z",
     "start_time": "2022-01-04T04:57:25.407112Z"
    }
   },
   "outputs": [],
   "source": [
    "mcds.coords['sample'] = cell_cluster"
   ]
  },
  {
   "cell_type": "code",
   "execution_count": 5,
   "metadata": {
    "ExecuteTime": {
     "end_time": "2022-01-02T20:58:16.343713Z",
     "start_time": "2022-01-02T20:56:10.230489Z"
    }
   },
   "outputs": [],
   "source": [
    "cluster_mcds = mcds.merge_cluster(cluster_col='sample').to_region_ds('geneslop2k')"
   ]
  },
  {
   "cell_type": "code",
   "execution_count": null,
   "metadata": {},
   "outputs": [],
   "source": [
    "cluster_mcds"
   ]
  },
  {
   "cell_type": "code",
   "execution_count": 7,
   "metadata": {
    "ExecuteTime": {
     "end_time": "2022-01-02T20:58:16.588456Z",
     "start_time": "2022-01-02T20:58:16.386651Z"
    }
   },
   "outputs": [
    {
     "data": {
      "text/plain": [
       "<xarray.backends.zarr.ZarrStore at 0x7f1cff0af4a0>"
      ]
     },
     "execution_count": 7,
     "metadata": {},
     "output_type": "execute_result"
    }
   ],
   "source": [
    "cluster_mcds.to_zarr('HIP_Cluster')"
   ]
  },
  {
   "cell_type": "markdown",
   "metadata": {},
   "source": [
    "## Cluster Enrichment"
   ]
  },
  {
   "cell_type": "code",
   "execution_count": 8,
   "metadata": {
    "ExecuteTime": {
     "end_time": "2022-01-04T04:59:16.356410Z",
     "start_time": "2022-01-04T04:59:16.262747Z"
    }
   },
   "outputs": [],
   "source": [
    "mcds.add_mc_frac(var_dim='geneslop2k')"
   ]
  },
  {
   "cell_type": "code",
   "execution_count": 9,
   "metadata": {
    "ExecuteTime": {
     "end_time": "2022-01-04T05:01:52.347923Z",
     "start_time": "2022-01-04T04:59:20.016473Z"
    }
   },
   "outputs": [
    {
     "name": "stderr",
     "output_type": "stream",
     "text": [
      "/home/hanliu/miniconda3/envs/allcools/lib/python3.8/site-packages/dask/core.py:121: RuntimeWarning: invalid value encountered in true_divide\n",
      "  return func(*(_execute_task(a, cache) for a in args))\n",
      "/home/hanliu/miniconda3/envs/allcools/lib/python3.8/site-packages/dask/core.py:121: RuntimeWarning: divide by zero encountered in true_divide\n",
      "  return func(*(_execute_task(a, cache) for a in args))\n",
      "/home/hanliu/miniconda3/envs/allcools/lib/python3.8/site-packages/dask/array/numpy_compat.py:41: RuntimeWarning: invalid value encountered in true_divide\n",
      "  x = np.divide(x1, x2, out)\n"
     ]
    }
   ],
   "source": [
    "adata = mcds.get_adata(mc_type='CHN',\n",
    "                       var_dim='geneslop2k',\n",
    "                       da_suffix='frac',\n",
    "                       obs_dim='cell',\n",
    "                       select_hvf=False)"
   ]
  },
  {
   "cell_type": "code",
   "execution_count": 28,
   "metadata": {
    "ExecuteTime": {
     "end_time": "2022-01-04T05:05:41.038490Z",
     "start_time": "2022-01-04T05:05:40.992589Z"
    }
   },
   "outputs": [],
   "source": [
    "adata.obs['cluster'] = adata.obs['sample'].str.split('_').str[1]\n",
    "\n",
    "cell_ids = adata.obs.groupby('cluster').apply(lambda i: i if i.shape[\n",
    "    0] < 1500 else i.sample(1500)).index.get_level_values(1)\n",
    "adata = adata[cell_ids, :]"
   ]
  },
  {
   "cell_type": "code",
   "execution_count": 30,
   "metadata": {
    "ExecuteTime": {
     "end_time": "2022-01-04T05:06:58.975406Z",
     "start_time": "2022-01-04T05:06:05.215359Z"
    }
   },
   "outputs": [
    {
     "name": "stdout",
     "output_type": "stream",
     "text": [
      "Found 10 clusters to compute feature enrichment score\n",
      "Computing enrichment score\n",
      "Computing enrichment score FDR-corrected P values\n",
      "Selected 1670 unique features\n"
     ]
    },
    {
     "name": "stderr",
     "output_type": "stream",
     "text": [
      "Trying to set attribute `.uns` of view, copying.\n"
     ]
    },
    {
     "data": {
      "image/png": "[encoded data removed]",
      "text/plain": [
       "<Figure size 1080x360 with 3 Axes>"
      ]
     },
     "metadata": {
      "needs_background": "light"
     },
     "output_type": "display_data"
    }
   ],
   "source": [
    "cluster_enriched_features(adata,\n",
    "                          cluster_col='cluster',\n",
    "                          top_n=200,\n",
    "                          alpha=0.05,\n",
    "                          stat_plot=True,\n",
    "                          method='mc')"
   ]
  },
  {
   "cell_type": "code",
   "execution_count": 32,
   "metadata": {
    "ExecuteTime": {
     "end_time": "2022-01-04T05:08:41.297437Z",
     "start_time": "2022-01-04T05:08:41.260168Z"
    }
   },
   "outputs": [],
   "source": [
    "qvals = pd.DataFrame(\n",
    "    adata.uns['cluster_feature_enrichment']['qvals'],\n",
    "    index=adata.var_names,\n",
    "    columns=adata.uns['cluster_feature_enrichment']\n",
    "    ['cluster_order'])\n",
    "\n",
    "qvals.to_hdf('mCH.cluster_enrichment_qvals.hdf', key='data')"
   ]
  },
  {
   "cell_type": "code",
   "execution_count": null,
   "metadata": {},
   "outputs": [],
   "source": []
  },
  {
   "cell_type": "code",
   "execution_count": null,
   "metadata": {},
   "outputs": [],
   "source": []
  },
  {
   "cell_type": "code",
   "execution_count": null,
   "metadata": {},
   "outputs": [],
   "source": []
  },
  {
   "cell_type": "code",
   "execution_count": null,
   "metadata": {},
   "outputs": [],
   "source": []
  },
  {
   "cell_type": "code",
   "execution_count": null,
   "metadata": {},
   "outputs": [],
   "source": []
  },
  {
   "cell_type": "code",
   "execution_count": null,
   "metadata": {},
   "outputs": [],
   "source": []
  },
  {
   "cell_type": "code",
   "execution_count": null,
   "metadata": {},
   "outputs": [],
   "source": []
  },
  {
   "cell_type": "code",
   "execution_count": null,
   "metadata": {},
   "outputs": [],
   "source": []
  },
  {
   "cell_type": "code",
   "execution_count": null,
   "metadata": {},
   "outputs": [],
   "source": []
  },
  {
   "cell_type": "code",
   "execution_count": null,
   "metadata": {},
   "outputs": [],
   "source": []
  },
  {
   "cell_type": "code",
   "execution_count": null,
   "metadata": {},
   "outputs": [],
   "source": []
  },
  {
   "cell_type": "code",
   "execution_count": null,
   "metadata": {},
   "outputs": [],
   "source": []
  },
  {
   "cell_type": "code",
   "execution_count": null,
   "metadata": {},
   "outputs": [],
   "source": []
  },
  {
   "cell_type": "code",
   "execution_count": null,
   "metadata": {},
   "outputs": [],
   "source": []
  },
  {
   "cell_type": "code",
   "execution_count": null,
   "metadata": {},
   "outputs": [],
   "source": []
  }
 ],
 "metadata": {
  "hide_input": false,
  "kernelspec": {
   "display_name": "Python 3 (ipykernel)",
   "language": "python",
   "name": "python3"
  },
  "language_info": {
   "codemirror_mode": {
    "name": "ipython",
    "version": 3
   },
   "file_extension": ".py",
   "mimetype": "text/x-python",
   "name": "python",
   "nbconvert_exporter": "python",
   "pygments_lexer": "ipython3",
   "version": "3.8.6"
  },
  "toc": {
   "base_numbering": 1,
   "nav_menu": {},
   "number_sections": true,
   "sideBar": true,
   "skip_h1_title": true,
   "title_cell": "Table of Contents",
   "title_sidebar": "Contents",
   "toc_cell": false,
   "toc_position": {},
   "toc_section_display": true,
   "toc_window_display": true
  }
 },
 "nbformat": 4,
 "nbformat_minor": 4
}
