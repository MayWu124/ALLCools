{
 "cells": [
  {
   "cell_type": "markdown",
   "id": "14f325a7",
   "metadata": {},
   "source": [
    "# Filter DMR"
   ]
  },
  {
   "cell_type": "code",
   "execution_count": 1,
   "id": "5355c0c2",
   "metadata": {
    "ExecuteTime": {
     "end_time": "2022-01-04T18:49:14.755086Z",
     "start_time": "2022-01-04T18:49:13.029324Z"
    }
   },
   "outputs": [],
   "source": [
    "from ALLCools.mcds import RegionDS\n",
    "from ALLCools.dmr import collapse_replicates"
   ]
  },
  {
   "cell_type": "code",
   "execution_count": 2,
   "id": "908b38c2",
   "metadata": {
    "ExecuteTime": {
     "end_time": "2022-01-04T18:49:14.877778Z",
     "start_time": "2022-01-04T18:49:14.757059Z"
    },
    "scrolled": true
   },
   "outputs": [
    {
     "name": "stdout",
     "output_type": "stream",
     "text": [
      "Using dmr as region_dim\n"
     ]
    }
   ],
   "source": [
    "region_ds = RegionDS.open('HIP_small', select_dir=['dmr', 'dmr_genome-features'])"
   ]
  },
  {
   "cell_type": "markdown",
   "id": "0b285e5f",
   "metadata": {},
   "source": [
    "## Remove Blacklist\n",
    "- Only if your genome has a blacklist and you've annotated the region ds with blacklist"
   ]
  },
  {
   "cell_type": "code",
   "execution_count": 3,
   "id": "56f3ad82",
   "metadata": {
    "ExecuteTime": {
     "end_time": "2022-01-04T18:49:14.911136Z",
     "start_time": "2022-01-04T18:49:14.902666Z"
    }
   },
   "outputs": [
    {
     "data": {
      "text/plain": [
       "dmr\n",
       "chr1-0       False\n",
       "chr1-1       False\n",
       "chr1-2       False\n",
       "chr1-3       False\n",
       "chr1-4       False\n",
       "             ...  \n",
       "chr19-118    False\n",
       "chr19-119    False\n",
       "chr19-120    False\n",
       "chr19-121    False\n",
       "chr19-122    False\n",
       "Length: 131, dtype: bool"
      ]
     },
     "execution_count": 3,
     "metadata": {},
     "output_type": "execute_result"
    }
   ],
   "source": [
    "is_blacklist = region_ds.get_feature('blacklist', 'genome-features').astype(bool)\n",
    "is_blacklist"
   ]
  },
  {
   "cell_type": "code",
   "execution_count": 4,
   "id": "612b83fd",
   "metadata": {
    "ExecuteTime": {
     "end_time": "2022-01-04T18:49:15.459973Z",
     "start_time": "2022-01-04T18:49:15.455164Z"
    }
   },
   "outputs": [],
   "source": [
    "# assign blacklist-overlapping DMR state to 0 (not significant)\n",
    "region_ds['dmr_state'].loc[{'dmr': is_blacklist.values}] = 0"
   ]
  },
  {
   "cell_type": "markdown",
   "id": "0a53c091",
   "metadata": {},
   "source": [
    "## Replicate Consistency"
   ]
  },
  {
   "cell_type": "code",
   "execution_count": 5,
   "id": "b17b0e83",
   "metadata": {
    "ExecuteTime": {
     "end_time": "2022-01-04T18:49:16.576911Z",
     "start_time": "2022-01-04T18:49:16.571834Z"
    }
   },
   "outputs": [
    {
     "data": {
      "text/plain": [
       "ASC             2\n",
       "CA1             2\n",
       "CA23            2\n",
       "CGE-VipLamp5    2\n",
       "DG              2\n",
       "MGC             2\n",
       "MGE-PvSst       2\n",
       "NonN            2\n",
       "ODC             2\n",
       "OPC             2\n",
       "dtype: int64"
      ]
     },
     "execution_count": 5,
     "metadata": {},
     "output_type": "execute_result"
    }
   ],
   "source": [
    "# each cell cluster has two \"replicates\"\n",
    "sample_to_replicate = region_ds.get_feature('sample').apply(lambda i: i.split('_')[1])\n",
    "sample_to_replicate.value_counts()"
   ]
  },
  {
   "cell_type": "code",
   "execution_count": 6,
   "id": "2430bfbb",
   "metadata": {
    "ExecuteTime": {
     "end_time": "2022-01-04T18:49:17.569280Z",
     "start_time": "2022-01-04T18:49:17.505879Z"
    }
   },
   "outputs": [
    {
     "name": "stdout",
     "output_type": "stream",
     "text": [
      "Collapsed sample state added in exist RegionDS at /home/hanliu/project/allcools_doc/cluster_level/RegionDS/HIP_small\n"
     ]
    }
   ],
   "source": [
    "# add sample level DMR state matrix\n",
    "collapse_replicates(region_ds=region_ds,\n",
    "                    replicate_label=sample_to_replicate,\n",
    "                    state_da='dmr_state')"
   ]
  },
  {
   "cell_type": "markdown",
   "id": "c49d33a9",
   "metadata": {},
   "source": [
    "## Final DMR hypo- hyper- state matrix\n",
    "set `dmr_state_collapsed` in futher sample based analysis or set `use_collapsed=True`"
   ]
  },
  {
   "cell_type": "code",
   "execution_count": 7,
   "id": "023b96e0",
   "metadata": {
    "ExecuteTime": {
     "end_time": "2022-01-04T18:49:20.967315Z",
     "start_time": "2022-01-04T18:49:20.948690Z"
    }
   },
   "outputs": [
    {
     "data": {
      "text/html": [
       "<div><svg style=\"position: absolute; width: 0; height: 0; overflow: hidden\">\n",
       "<defs>\n",
       "<symbol id=\"icon-database\" viewBox=\"0 0 32 32\">\n",
       "<path d=\"M16 0c-8.837 0-16 2.239-16 5v4c0 2.761 7.163 5 16 5s16-2.239 16-5v-4c0-2.761-7.163-5-16-5z\"></path>\n",
       "<path d=\"M16 17c-8.837 0-16-2.239-16-5v6c0 2.761 7.163 5 16 5s16-2.239 16-5v-6c0 2.761-7.163 5-16 5z\"></path>\n",
       "<path d=\"M16 26c-8.837 0-16-2.239-16-5v6c0 2.761 7.163 5 16 5s16-2.239 16-5v-6c0 2.761-7.163 5-16 5z\"></path>\n",
       "</symbol>\n",
       "<symbol id=\"icon-file-text2\" viewBox=\"0 0 32 32\">\n",
       "<path d=\"M28.681 7.159c-0.694-0.947-1.662-2.053-2.724-3.116s-2.169-2.030-3.116-2.724c-1.612-1.182-2.393-1.319-2.841-1.319h-15.5c-1.378 0-2.5 1.121-2.5 2.5v27c0 1.378 1.122 2.5 2.5 2.5h23c1.378 0 2.5-1.122 2.5-2.5v-19.5c0-0.448-0.137-1.23-1.319-2.841zM24.543 5.457c0.959 0.959 1.712 1.825 2.268 2.543h-4.811v-4.811c0.718 0.556 1.584 1.309 2.543 2.268zM28 29.5c0 0.271-0.229 0.5-0.5 0.5h-23c-0.271 0-0.5-0.229-0.5-0.5v-27c0-0.271 0.229-0.5 0.5-0.5 0 0 15.499-0 15.5 0v7c0 0.552 0.448 1 1 1h7v19.5z\"></path>\n",
       "<path d=\"M23 26h-14c-0.552 0-1-0.448-1-1s0.448-1 1-1h14c0.552 0 1 0.448 1 1s-0.448 1-1 1z\"></path>\n",
       "<path d=\"M23 22h-14c-0.552 0-1-0.448-1-1s0.448-1 1-1h14c0.552 0 1 0.448 1 1s-0.448 1-1 1z\"></path>\n",
       "<path d=\"M23 18h-14c-0.552 0-1-0.448-1-1s0.448-1 1-1h14c0.552 0 1 0.448 1 1s-0.448 1-1 1z\"></path>\n",
       "</symbol>\n",
       "</defs>\n",
       "</svg>\n",
       "<style>/* CSS stylesheet for displaying xarray objects in jupyterlab.\n",
       " *\n",
       " */\n",
       "\n",
       ":root {\n",
       "  --xr-font-color0: var(--jp-content-font-color0, rgba(0, 0, 0, 1));\n",
       "  --xr-font-color2: var(--jp-content-font-color2, rgba(0, 0, 0, 0.54));\n",
       "  --xr-font-color3: var(--jp-content-font-color3, rgba(0, 0, 0, 0.38));\n",
       "  --xr-border-color: var(--jp-border-color2, #e0e0e0);\n",
       "  --xr-disabled-color: var(--jp-layout-color3, #bdbdbd);\n",
       "  --xr-background-color: var(--jp-layout-color0, white);\n",
       "  --xr-background-color-row-even: var(--jp-layout-color1, white);\n",
       "  --xr-background-color-row-odd: var(--jp-layout-color2, #eeeeee);\n",
       "}\n",
       "\n",
       "html[theme=dark],\n",
       "body.vscode-dark {\n",
       "  --xr-font-color0: rgba(255, 255, 255, 1);\n",
       "  --xr-font-color2: rgba(255, 255, 255, 0.54);\n",
       "  --xr-font-color3: rgba(255, 255, 255, 0.38);\n",
       "  --xr-border-color: #1F1F1F;\n",
       "  --xr-disabled-color: #515151;\n",
       "  --xr-background-color: #111111;\n",
       "  --xr-background-color-row-even: #111111;\n",
       "  --xr-background-color-row-odd: #313131;\n",
       "}\n",
       "\n",
       ".xr-wrap {\n",
       "  display: block !important;\n",
       "  min-width: 300px;\n",
       "  max-width: 700px;\n",
       "}\n",
       "\n",
       ".xr-text-repr-fallback {\n",
       "  /* fallback to plain text repr when CSS is not injected (untrusted notebook) */\n",
       "  display: none;\n",
       "}\n",
       "\n",
       ".xr-header {\n",
       "  padding-top: 6px;\n",
       "  padding-bottom: 6px;\n",
       "  margin-bottom: 4px;\n",
       "  border-bottom: solid 1px var(--xr-border-color);\n",
       "}\n",
       "\n",
       ".xr-header > div,\n",
       ".xr-header > ul {\n",
       "  display: inline;\n",
       "  margin-top: 0;\n",
       "  margin-bottom: 0;\n",
       "}\n",
       "\n",
       ".xr-obj-type,\n",
       ".xr-array-name {\n",
       "  margin-left: 2px;\n",
       "  margin-right: 10px;\n",
       "}\n",
       "\n",
       ".xr-obj-type {\n",
       "  color: var(--xr-font-color2);\n",
       "}\n",
       "\n",
       ".xr-sections {\n",
       "  padding-left: 0 !important;\n",
       "  display: grid;\n",
       "  grid-template-columns: 150px auto auto 1fr 20px 20px;\n",
       "}\n",
       "\n",
       ".xr-section-item {\n",
       "  display: contents;\n",
       "}\n",
       "\n",
       ".xr-section-item input {\n",
       "  display: none;\n",
       "}\n",
       "\n",
       ".xr-section-item input + label {\n",
       "  color: var(--xr-disabled-color);\n",
       "}\n",
       "\n",
       ".xr-section-item input:enabled + label {\n",
       "  cursor: pointer;\n",
       "  color: var(--xr-font-color2);\n",
       "}\n",
       "\n",
       ".xr-section-item input:enabled + label:hover {\n",
       "  color: var(--xr-font-color0);\n",
       "}\n",
       "\n",
       ".xr-section-summary {\n",
       "  grid-column: 1;\n",
       "  color: var(--xr-font-color2);\n",
       "  font-weight: 500;\n",
       "}\n",
       "\n",
       ".xr-section-summary > span {\n",
       "  display: inline-block;\n",
       "  padding-left: 0.5em;\n",
       "}\n",
       "\n",
       ".xr-section-summary-in:disabled + label {\n",
       "  color: var(--xr-font-color2);\n",
       "}\n",
       "\n",
       ".xr-section-summary-in + label:before {\n",
       "  display: inline-block;\n",
       "  content: '►';\n",
       "  font-size: 11px;\n",
       "  width: 15px;\n",
       "  text-align: center;\n",
       "}\n",
       "\n",
       ".xr-section-summary-in:disabled + label:before {\n",
       "  color: var(--xr-disabled-color);\n",
       "}\n",
       "\n",
       ".xr-section-summary-in:checked + label:before {\n",
       "  content: '▼';\n",
       "}\n",
       "\n",
       ".xr-section-summary-in:checked + label > span {\n",
       "  display: none;\n",
       "}\n",
       "\n",
       ".xr-section-summary,\n",
       ".xr-section-inline-details {\n",
       "  padding-top: 4px;\n",
       "  padding-bottom: 4px;\n",
       "}\n",
       "\n",
       ".xr-section-inline-details {\n",
       "  grid-column: 2 / -1;\n",
       "}\n",
       "\n",
       ".xr-section-details {\n",
       "  display: none;\n",
       "  grid-column: 1 / -1;\n",
       "  margin-bottom: 5px;\n",
       "}\n",
       "\n",
       ".xr-section-summary-in:checked ~ .xr-section-details {\n",
       "  display: contents;\n",
       "}\n",
       "\n",
       ".xr-array-wrap {\n",
       "  grid-column: 1 / -1;\n",
       "  display: grid;\n",
       "  grid-template-columns: 20px auto;\n",
       "}\n",
       "\n",
       ".xr-array-wrap > label {\n",
       "  grid-column: 1;\n",
       "  vertical-align: top;\n",
       "}\n",
       "\n",
       ".xr-preview {\n",
       "  color: var(--xr-font-color3);\n",
       "}\n",
       "\n",
       ".xr-array-preview,\n",
       ".xr-array-data {\n",
       "  padding: 0 5px !important;\n",
       "  grid-column: 2;\n",
       "}\n",
       "\n",
       ".xr-array-data,\n",
       ".xr-array-in:checked ~ .xr-array-preview {\n",
       "  display: none;\n",
       "}\n",
       "\n",
       ".xr-array-in:checked ~ .xr-array-data,\n",
       ".xr-array-preview {\n",
       "  display: inline-block;\n",
       "}\n",
       "\n",
       ".xr-dim-list {\n",
       "  display: inline-block !important;\n",
       "  list-style: none;\n",
       "  padding: 0 !important;\n",
       "  margin: 0;\n",
       "}\n",
       "\n",
       ".xr-dim-list li {\n",
       "  display: inline-block;\n",
       "  padding: 0;\n",
       "  margin: 0;\n",
       "}\n",
       "\n",
       ".xr-dim-list:before {\n",
       "  content: '(';\n",
       "}\n",
       "\n",
       ".xr-dim-list:after {\n",
       "  content: ')';\n",
       "}\n",
       "\n",
       ".xr-dim-list li:not(:last-child):after {\n",
       "  content: ',';\n",
       "  padding-right: 5px;\n",
       "}\n",
       "\n",
       ".xr-has-index {\n",
       "  font-weight: bold;\n",
       "}\n",
       "\n",
       ".xr-var-list,\n",
       ".xr-var-item {\n",
       "  display: contents;\n",
       "}\n",
       "\n",
       ".xr-var-item > div,\n",
       ".xr-var-item label,\n",
       ".xr-var-item > .xr-var-name span {\n",
       "  background-color: var(--xr-background-color-row-even);\n",
       "  margin-bottom: 0;\n",
       "}\n",
       "\n",
       ".xr-var-item > .xr-var-name:hover span {\n",
       "  padding-right: 5px;\n",
       "}\n",
       "\n",
       ".xr-var-list > li:nth-child(odd) > div,\n",
       ".xr-var-list > li:nth-child(odd) > label,\n",
       ".xr-var-list > li:nth-child(odd) > .xr-var-name span {\n",
       "  background-color: var(--xr-background-color-row-odd);\n",
       "}\n",
       "\n",
       ".xr-var-name {\n",
       "  grid-column: 1;\n",
       "}\n",
       "\n",
       ".xr-var-dims {\n",
       "  grid-column: 2;\n",
       "}\n",
       "\n",
       ".xr-var-dtype {\n",
       "  grid-column: 3;\n",
       "  text-align: right;\n",
       "  color: var(--xr-font-color2);\n",
       "}\n",
       "\n",
       ".xr-var-preview {\n",
       "  grid-column: 4;\n",
       "}\n",
       "\n",
       ".xr-var-name,\n",
       ".xr-var-dims,\n",
       ".xr-var-dtype,\n",
       ".xr-preview,\n",
       ".xr-attrs dt {\n",
       "  white-space: nowrap;\n",
       "  overflow: hidden;\n",
       "  text-overflow: ellipsis;\n",
       "  padding-right: 10px;\n",
       "}\n",
       "\n",
       ".xr-var-name:hover,\n",
       ".xr-var-dims:hover,\n",
       ".xr-var-dtype:hover,\n",
       ".xr-attrs dt:hover {\n",
       "  overflow: visible;\n",
       "  width: auto;\n",
       "  z-index: 1;\n",
       "}\n",
       "\n",
       ".xr-var-attrs,\n",
       ".xr-var-data {\n",
       "  display: none;\n",
       "  background-color: var(--xr-background-color) !important;\n",
       "  padding-bottom: 5px !important;\n",
       "}\n",
       "\n",
       ".xr-var-attrs-in:checked ~ .xr-var-attrs,\n",
       ".xr-var-data-in:checked ~ .xr-var-data {\n",
       "  display: block;\n",
       "}\n",
       "\n",
       ".xr-var-data > table {\n",
       "  float: right;\n",
       "}\n",
       "\n",
       ".xr-var-name span,\n",
       ".xr-var-data,\n",
       ".xr-attrs {\n",
       "  padding-left: 25px !important;\n",
       "}\n",
       "\n",
       ".xr-attrs,\n",
       ".xr-var-attrs,\n",
       ".xr-var-data {\n",
       "  grid-column: 1 / -1;\n",
       "}\n",
       "\n",
       "dl.xr-attrs {\n",
       "  padding: 0;\n",
       "  margin: 0;\n",
       "  display: grid;\n",
       "  grid-template-columns: 125px auto;\n",
       "}\n",
       "\n",
       ".xr-attrs dt,\n",
       ".xr-attrs dd {\n",
       "  padding: 0;\n",
       "  margin: 0;\n",
       "  float: left;\n",
       "  padding-right: 10px;\n",
       "  width: auto;\n",
       "}\n",
       "\n",
       ".xr-attrs dt {\n",
       "  font-weight: normal;\n",
       "  grid-column: 1;\n",
       "}\n",
       "\n",
       ".xr-attrs dt:hover span {\n",
       "  display: inline-block;\n",
       "  background: var(--xr-background-color);\n",
       "  padding-right: 10px;\n",
       "}\n",
       "\n",
       ".xr-attrs dd {\n",
       "  grid-column: 2;\n",
       "  white-space: pre-wrap;\n",
       "  word-break: break-all;\n",
       "}\n",
       "\n",
       ".xr-icon-database,\n",
       ".xr-icon-file-text2 {\n",
       "  display: inline-block;\n",
       "  vertical-align: middle;\n",
       "  width: 1em;\n",
       "  height: 1.5em !important;\n",
       "  stroke-width: 0;\n",
       "  stroke: currentColor;\n",
       "  fill: currentColor;\n",
       "}\n",
       "</style><pre class='xr-text-repr-fallback'>&lt;xarray.DataArray &#x27;dmr_state_collapsed&#x27; (dmr: 131, sample_collapsed: 10)&gt;\n",
       "array([[ 0,  0,  0, ...,  0,  0,  0],\n",
       "       [ 0,  1,  1, ..., -1, -1, -1],\n",
       "       [-1,  1,  1, ..., -1, -1, -1],\n",
       "       ...,\n",
       "       [ 0, -1, -1, ...,  1,  1,  0],\n",
       "       [ 0, -1, -1, ...,  0,  1,  0],\n",
       "       [-1, -1, -1, ...,  1,  1, -1]], dtype=int8)\n",
       "Coordinates:\n",
       "  * dmr               (dmr) object &#x27;chr1-0&#x27; &#x27;chr1-1&#x27; ... &#x27;chr19-121&#x27; &#x27;chr19-122&#x27;\n",
       "    dmr_chrom         (dmr) &lt;U5 &#x27;chr1&#x27; &#x27;chr1&#x27; &#x27;chr1&#x27; ... &#x27;chr19&#x27; &#x27;chr19&#x27; &#x27;chr19&#x27;\n",
       "    dmr_end           (dmr) int64 10002172 10003542 10003967 ... 5099203 5099952\n",
       "    dmr_length        (dmr) int64 2 305 54 2 2 2 10 ... 924 632 842 195 399 335\n",
       "    dmr_ndms          (dmr) int64 1 7 2 1 1 1 2 13 3 2 ... 2 7 13 19 9 9 3 6 13\n",
       "    dmr_start         (dmr) int64 10002170 10003237 10003913 ... 5098804 5099617\n",
       "  * sample_collapsed  (sample_collapsed) object &#x27;ASC&#x27; &#x27;CA1&#x27; ... &#x27;ODC&#x27; &#x27;OPC&#x27;</pre><div class='xr-wrap' style='display:none'><div class='xr-header'><div class='xr-obj-type'>xarray.DataArray</div><div class='xr-array-name'>'dmr_state_collapsed'</div><ul class='xr-dim-list'><li><span class='xr-has-index'>dmr</span>: 131</li><li><span class='xr-has-index'>sample_collapsed</span>: 10</li></ul></div><ul class='xr-sections'><li class='xr-section-item'><div class='xr-array-wrap'><input id='section-8f0a7110-56fe-4ef4-b6be-1983e7781e3a' class='xr-array-in' type='checkbox' checked><label for='section-8f0a7110-56fe-4ef4-b6be-1983e7781e3a' title='Show/hide data repr'><svg class='icon xr-icon-database'><use xlink:href='#icon-database'></use></svg></label><div class='xr-array-preview xr-preview'><span>0 0 0 0 0 0 0 0 0 0 0 1 1 1 1 ... 1 -1 0 1 0 -1 -1 -1 1 -1 1 1 1 1 -1</span></div><div class='xr-array-data'><pre>array([[ 0,  0,  0, ...,  0,  0,  0],\n",
       "       [ 0,  1,  1, ..., -1, -1, -1],\n",
       "       [-1,  1,  1, ..., -1, -1, -1],\n",
       "       ...,\n",
       "       [ 0, -1, -1, ...,  1,  1,  0],\n",
       "       [ 0, -1, -1, ...,  0,  1,  0],\n",
       "       [-1, -1, -1, ...,  1,  1, -1]], dtype=int8)</pre></div></div></li><li class='xr-section-item'><input id='section-1f21c4d4-42d4-42b1-858a-d28956c25766' class='xr-section-summary-in' type='checkbox'  checked><label for='section-1f21c4d4-42d4-42b1-858a-d28956c25766' class='xr-section-summary' >Coordinates: <span>(7)</span></label><div class='xr-section-inline-details'></div><div class='xr-section-details'><ul class='xr-var-list'><li class='xr-var-item'><div class='xr-var-name'><span class='xr-has-index'>dmr</span></div><div class='xr-var-dims'>(dmr)</div><div class='xr-var-dtype'>object</div><div class='xr-var-preview xr-preview'>&#x27;chr1-0&#x27; &#x27;chr1-1&#x27; ... &#x27;chr19-122&#x27;</div><input id='attrs-b45086f1-edff-498f-afd9-b182c1144365' class='xr-var-attrs-in' type='checkbox' disabled><label for='attrs-b45086f1-edff-498f-afd9-b182c1144365' title='Show/Hide attributes'><svg class='icon xr-icon-file-text2'><use xlink:href='#icon-file-text2'></use></svg></label><input id='data-4910fafd-c0aa-4d3b-bc76-6a988e31fa2a' class='xr-var-data-in' type='checkbox'><label for='data-4910fafd-c0aa-4d3b-bc76-6a988e31fa2a' title='Show/Hide data repr'><svg class='icon xr-icon-database'><use xlink:href='#icon-database'></use></svg></label><div class='xr-var-attrs'><dl class='xr-attrs'></dl></div><div class='xr-var-data'><pre>array([&#x27;chr1-0&#x27;, &#x27;chr1-1&#x27;, &#x27;chr1-2&#x27;, &#x27;chr1-3&#x27;, &#x27;chr1-4&#x27;, &#x27;chr1-5&#x27;, &#x27;chr1-6&#x27;,\n",
       "       &#x27;chr1-7&#x27;, &#x27;chr19-0&#x27;, &#x27;chr19-1&#x27;, &#x27;chr19-2&#x27;, &#x27;chr19-3&#x27;, &#x27;chr19-4&#x27;,\n",
       "       &#x27;chr19-5&#x27;, &#x27;chr19-6&#x27;, &#x27;chr19-7&#x27;, &#x27;chr19-8&#x27;, &#x27;chr19-9&#x27;, &#x27;chr19-10&#x27;,\n",
       "       &#x27;chr19-11&#x27;, &#x27;chr19-12&#x27;, &#x27;chr19-13&#x27;, &#x27;chr19-14&#x27;, &#x27;chr19-15&#x27;, &#x27;chr19-16&#x27;,\n",
       "       &#x27;chr19-17&#x27;, &#x27;chr19-18&#x27;, &#x27;chr19-19&#x27;, &#x27;chr19-20&#x27;, &#x27;chr19-21&#x27;, &#x27;chr19-22&#x27;,\n",
       "       &#x27;chr19-23&#x27;, &#x27;chr19-24&#x27;, &#x27;chr19-25&#x27;, &#x27;chr19-26&#x27;, &#x27;chr19-27&#x27;, &#x27;chr19-28&#x27;,\n",
       "       &#x27;chr19-29&#x27;, &#x27;chr19-30&#x27;, &#x27;chr19-31&#x27;, &#x27;chr19-32&#x27;, &#x27;chr19-33&#x27;, &#x27;chr19-34&#x27;,\n",
       "       &#x27;chr19-35&#x27;, &#x27;chr19-36&#x27;, &#x27;chr19-37&#x27;, &#x27;chr19-38&#x27;, &#x27;chr19-39&#x27;, &#x27;chr19-40&#x27;,\n",
       "       &#x27;chr19-41&#x27;, &#x27;chr19-42&#x27;, &#x27;chr19-43&#x27;, &#x27;chr19-44&#x27;, &#x27;chr19-45&#x27;, &#x27;chr19-46&#x27;,\n",
       "       &#x27;chr19-47&#x27;, &#x27;chr19-48&#x27;, &#x27;chr19-49&#x27;, &#x27;chr19-50&#x27;, &#x27;chr19-51&#x27;, &#x27;chr19-52&#x27;,\n",
       "       &#x27;chr19-53&#x27;, &#x27;chr19-54&#x27;, &#x27;chr19-55&#x27;, &#x27;chr19-56&#x27;, &#x27;chr19-57&#x27;, &#x27;chr19-58&#x27;,\n",
       "       &#x27;chr19-59&#x27;, &#x27;chr19-60&#x27;, &#x27;chr19-61&#x27;, &#x27;chr19-62&#x27;, &#x27;chr19-63&#x27;, &#x27;chr19-64&#x27;,\n",
       "       &#x27;chr19-65&#x27;, &#x27;chr19-66&#x27;, &#x27;chr19-67&#x27;, &#x27;chr19-68&#x27;, &#x27;chr19-69&#x27;, &#x27;chr19-70&#x27;,\n",
       "       &#x27;chr19-71&#x27;, &#x27;chr19-72&#x27;, &#x27;chr19-73&#x27;, &#x27;chr19-74&#x27;, &#x27;chr19-75&#x27;, &#x27;chr19-76&#x27;,\n",
       "       &#x27;chr19-77&#x27;, &#x27;chr19-78&#x27;, &#x27;chr19-79&#x27;, &#x27;chr19-80&#x27;, &#x27;chr19-81&#x27;, &#x27;chr19-82&#x27;,\n",
       "       &#x27;chr19-83&#x27;, &#x27;chr19-84&#x27;, &#x27;chr19-85&#x27;, &#x27;chr19-86&#x27;, &#x27;chr19-87&#x27;, &#x27;chr19-88&#x27;,\n",
       "       &#x27;chr19-89&#x27;, &#x27;chr19-90&#x27;, &#x27;chr19-91&#x27;, &#x27;chr19-92&#x27;, &#x27;chr19-93&#x27;, &#x27;chr19-94&#x27;,\n",
       "       &#x27;chr19-95&#x27;, &#x27;chr19-96&#x27;, &#x27;chr19-97&#x27;, &#x27;chr19-98&#x27;, &#x27;chr19-99&#x27;, &#x27;chr19-100&#x27;,\n",
       "       &#x27;chr19-101&#x27;, &#x27;chr19-102&#x27;, &#x27;chr19-103&#x27;, &#x27;chr19-104&#x27;, &#x27;chr19-105&#x27;,\n",
       "       &#x27;chr19-106&#x27;, &#x27;chr19-107&#x27;, &#x27;chr19-108&#x27;, &#x27;chr19-109&#x27;, &#x27;chr19-110&#x27;,\n",
       "       &#x27;chr19-111&#x27;, &#x27;chr19-112&#x27;, &#x27;chr19-113&#x27;, &#x27;chr19-114&#x27;, &#x27;chr19-115&#x27;,\n",
       "       &#x27;chr19-116&#x27;, &#x27;chr19-117&#x27;, &#x27;chr19-118&#x27;, &#x27;chr19-119&#x27;, &#x27;chr19-120&#x27;,\n",
       "       &#x27;chr19-121&#x27;, &#x27;chr19-122&#x27;], dtype=object)</pre></div></li><li class='xr-var-item'><div class='xr-var-name'><span>dmr_chrom</span></div><div class='xr-var-dims'>(dmr)</div><div class='xr-var-dtype'>&lt;U5</div><div class='xr-var-preview xr-preview'>&#x27;chr1&#x27; &#x27;chr1&#x27; ... &#x27;chr19&#x27; &#x27;chr19&#x27;</div><input id='attrs-70fe3485-a11b-4f4e-9e64-5dd7dca293d5' class='xr-var-attrs-in' type='checkbox' disabled><label for='attrs-70fe3485-a11b-4f4e-9e64-5dd7dca293d5' title='Show/Hide attributes'><svg class='icon xr-icon-file-text2'><use xlink:href='#icon-file-text2'></use></svg></label><input id='data-17b0b5af-165a-4a85-acf0-62c92b226d61' class='xr-var-data-in' type='checkbox'><label for='data-17b0b5af-165a-4a85-acf0-62c92b226d61' title='Show/Hide data repr'><svg class='icon xr-icon-database'><use xlink:href='#icon-database'></use></svg></label><div class='xr-var-attrs'><dl class='xr-attrs'></dl></div><div class='xr-var-data'><pre>array([&#x27;chr1&#x27;, &#x27;chr1&#x27;, &#x27;chr1&#x27;, &#x27;chr1&#x27;, &#x27;chr1&#x27;, &#x27;chr1&#x27;, &#x27;chr1&#x27;, &#x27;chr1&#x27;,\n",
       "       &#x27;chr19&#x27;, &#x27;chr19&#x27;, &#x27;chr19&#x27;, &#x27;chr19&#x27;, &#x27;chr19&#x27;, &#x27;chr19&#x27;, &#x27;chr19&#x27;,\n",
       "       &#x27;chr19&#x27;, &#x27;chr19&#x27;, &#x27;chr19&#x27;, &#x27;chr19&#x27;, &#x27;chr19&#x27;, &#x27;chr19&#x27;, &#x27;chr19&#x27;,\n",
       "       &#x27;chr19&#x27;, &#x27;chr19&#x27;, &#x27;chr19&#x27;, &#x27;chr19&#x27;, &#x27;chr19&#x27;, &#x27;chr19&#x27;, &#x27;chr19&#x27;,\n",
       "       &#x27;chr19&#x27;, &#x27;chr19&#x27;, &#x27;chr19&#x27;, &#x27;chr19&#x27;, &#x27;chr19&#x27;, &#x27;chr19&#x27;, &#x27;chr19&#x27;,\n",
       "       &#x27;chr19&#x27;, &#x27;chr19&#x27;, &#x27;chr19&#x27;, &#x27;chr19&#x27;, &#x27;chr19&#x27;, &#x27;chr19&#x27;, &#x27;chr19&#x27;,\n",
       "       &#x27;chr19&#x27;, &#x27;chr19&#x27;, &#x27;chr19&#x27;, &#x27;chr19&#x27;, &#x27;chr19&#x27;, &#x27;chr19&#x27;, &#x27;chr19&#x27;,\n",
       "       &#x27;chr19&#x27;, &#x27;chr19&#x27;, &#x27;chr19&#x27;, &#x27;chr19&#x27;, &#x27;chr19&#x27;, &#x27;chr19&#x27;, &#x27;chr19&#x27;,\n",
       "       &#x27;chr19&#x27;, &#x27;chr19&#x27;, &#x27;chr19&#x27;, &#x27;chr19&#x27;, &#x27;chr19&#x27;, &#x27;chr19&#x27;, &#x27;chr19&#x27;,\n",
       "       &#x27;chr19&#x27;, &#x27;chr19&#x27;, &#x27;chr19&#x27;, &#x27;chr19&#x27;, &#x27;chr19&#x27;, &#x27;chr19&#x27;, &#x27;chr19&#x27;,\n",
       "       &#x27;chr19&#x27;, &#x27;chr19&#x27;, &#x27;chr19&#x27;, &#x27;chr19&#x27;, &#x27;chr19&#x27;, &#x27;chr19&#x27;, &#x27;chr19&#x27;,\n",
       "       &#x27;chr19&#x27;, &#x27;chr19&#x27;, &#x27;chr19&#x27;, &#x27;chr19&#x27;, &#x27;chr19&#x27;, &#x27;chr19&#x27;, &#x27;chr19&#x27;,\n",
       "       &#x27;chr19&#x27;, &#x27;chr19&#x27;, &#x27;chr19&#x27;, &#x27;chr19&#x27;, &#x27;chr19&#x27;, &#x27;chr19&#x27;, &#x27;chr19&#x27;,\n",
       "       &#x27;chr19&#x27;, &#x27;chr19&#x27;, &#x27;chr19&#x27;, &#x27;chr19&#x27;, &#x27;chr19&#x27;, &#x27;chr19&#x27;, &#x27;chr19&#x27;,\n",
       "       &#x27;chr19&#x27;, &#x27;chr19&#x27;, &#x27;chr19&#x27;, &#x27;chr19&#x27;, &#x27;chr19&#x27;, &#x27;chr19&#x27;, &#x27;chr19&#x27;,\n",
       "       &#x27;chr19&#x27;, &#x27;chr19&#x27;, &#x27;chr19&#x27;, &#x27;chr19&#x27;, &#x27;chr19&#x27;, &#x27;chr19&#x27;, &#x27;chr19&#x27;,\n",
       "       &#x27;chr19&#x27;, &#x27;chr19&#x27;, &#x27;chr19&#x27;, &#x27;chr19&#x27;, &#x27;chr19&#x27;, &#x27;chr19&#x27;, &#x27;chr19&#x27;,\n",
       "       &#x27;chr19&#x27;, &#x27;chr19&#x27;, &#x27;chr19&#x27;, &#x27;chr19&#x27;, &#x27;chr19&#x27;, &#x27;chr19&#x27;, &#x27;chr19&#x27;,\n",
       "       &#x27;chr19&#x27;, &#x27;chr19&#x27;, &#x27;chr19&#x27;, &#x27;chr19&#x27;], dtype=&#x27;&lt;U5&#x27;)</pre></div></li><li class='xr-var-item'><div class='xr-var-name'><span>dmr_end</span></div><div class='xr-var-dims'>(dmr)</div><div class='xr-var-dtype'>int64</div><div class='xr-var-preview xr-preview'>10002172 10003542 ... 5099952</div><input id='attrs-66c2fb9a-3894-4f1e-bf7c-3f1892cb9204' class='xr-var-attrs-in' type='checkbox' disabled><label for='attrs-66c2fb9a-3894-4f1e-bf7c-3f1892cb9204' title='Show/Hide attributes'><svg class='icon xr-icon-file-text2'><use xlink:href='#icon-file-text2'></use></svg></label><input id='data-f993f6b9-31b6-4eb4-92a8-c41b9968cfe4' class='xr-var-data-in' type='checkbox'><label for='data-f993f6b9-31b6-4eb4-92a8-c41b9968cfe4' title='Show/Hide data repr'><svg class='icon xr-icon-database'><use xlink:href='#icon-database'></use></svg></label><div class='xr-var-attrs'><dl class='xr-attrs'></dl></div><div class='xr-var-data'><pre>array([10002172, 10003542, 10003967, 10005479, 10007099, 10007758,\n",
       "       10008889, 10009927,  5000194,  5000343,  5000715,  5001506,\n",
       "        5001549,  5002858,  5003862,  5004785,  5005319,  5005816,\n",
       "        5006789,  5008015,  5008084,  5008130,  5008805,  5010091,\n",
       "        5011268,  5011724,  5011926,  5012429,  5012955,  5013312,\n",
       "        5013603,  5014250,  5014562,  5014921,  5015099,  5016145,\n",
       "        5016791,  5017181,  5017656,  5018340,  5019014,  5019656,\n",
       "        5020498,  5021894,  5022034,  5022299,  5023452,  5025645,\n",
       "        5026013,  5026581,  5028070,  5029223,  5029469,  5029930,\n",
       "        5031623,  5032343,  5033665,  5035273,  5036180,  5036656,\n",
       "        5037800,  5040294,  5040872,  5042216,  5042541,  5043207,\n",
       "        5043818,  5045206,  5046083,  5046469,  5047139,  5050164,\n",
       "        5051764,  5054110,  5056089,  5056189,  5056309,  5056642,\n",
       "        5057152,  5057233,  5059280,  5059541,  5060286,  5060636,\n",
       "        5061033,  5061586,  5061960,  5062181,  5062652,  5063270,\n",
       "        5064727,  5065461,  5065765,  5066074,  5066405,  5067916,\n",
       "        5069149,  5070132,  5071656,  5071800,  5073983,  5074921,\n",
       "        5076037,  5076379,  5077207,  5078490,  5078805,  5080040,\n",
       "        5080229,  5081032,  5081240,  5081796,  5082893,  5083285,\n",
       "        5083586,  5084274,  5084686,  5086323,  5087151,  5087539,\n",
       "        5089466,  5089734,  5090283,  5091820,  5092737,  5094022,\n",
       "        5095601,  5097380,  5097870,  5099203,  5099952])</pre></div></li><li class='xr-var-item'><div class='xr-var-name'><span>dmr_length</span></div><div class='xr-var-dims'>(dmr)</div><div class='xr-var-dtype'>int64</div><div class='xr-var-preview xr-preview'>2 305 54 2 2 ... 842 195 399 335</div><input id='attrs-05d1302d-8c37-4812-8bee-14feec6d3a2f' class='xr-var-attrs-in' type='checkbox' disabled><label for='attrs-05d1302d-8c37-4812-8bee-14feec6d3a2f' title='Show/Hide attributes'><svg class='icon xr-icon-file-text2'><use xlink:href='#icon-file-text2'></use></svg></label><input id='data-b1f71465-4201-4af1-89fc-fac04f4583ef' class='xr-var-data-in' type='checkbox'><label for='data-b1f71465-4201-4af1-89fc-fac04f4583ef' title='Show/Hide data repr'><svg class='icon xr-icon-database'><use xlink:href='#icon-database'></use></svg></label><div class='xr-var-attrs'><dl class='xr-attrs'></dl></div><div class='xr-var-data'><pre>array([   2,  305,   54,    2,    2,    2,   10,  440,  171,   12,    2,\n",
       "          2,   22,    2,  504,  128,  146,  201,    2,    2,    2,    2,\n",
       "        182,    2,  246,    2,    2,  101,  343,   49,  183,    2,   88,\n",
       "          2,    2,   89,  385,   55,    2,   48,  144,    2,    2,  821,\n",
       "          2,    2,  306,  913,    2,   71,   91,   22,   21,  149,    2,\n",
       "          2,    2,  104,   57,   76,    2,  532,  552,  211,    2,  243,\n",
       "          2,    2,  322,   63,    2, 2314, 1029, 2090,   58,    2,    2,\n",
       "          2,  253,    2, 1351,    2,  478,    2,  127,   42,    2,   43,\n",
       "          2,   46,    2,  482,   14,    2,    2,  773,  760,    2,  661,\n",
       "        126,  345,  687,  366,    2,  469,  866,    2,    2,   59,  315,\n",
       "          2,  368, 1053,  367,    2,  186,    2,  391,  158,  323,   31,\n",
       "          2,  138,  434,  589,  924,  632,  842,  195,  399,  335])</pre></div></li><li class='xr-var-item'><div class='xr-var-name'><span>dmr_ndms</span></div><div class='xr-var-dims'>(dmr)</div><div class='xr-var-dtype'>int64</div><div class='xr-var-preview xr-preview'>1 7 2 1 1 1 2 ... 13 19 9 9 3 6 13</div><input id='attrs-394d7cd9-eb9c-4437-bc5a-654985736dde' class='xr-var-attrs-in' type='checkbox' disabled><label for='attrs-394d7cd9-eb9c-4437-bc5a-654985736dde' title='Show/Hide attributes'><svg class='icon xr-icon-file-text2'><use xlink:href='#icon-file-text2'></use></svg></label><input id='data-cd1aafdd-7bc1-496f-a3d9-3cbcdb5f41f9' class='xr-var-data-in' type='checkbox'><label for='data-cd1aafdd-7bc1-496f-a3d9-3cbcdb5f41f9' title='Show/Hide data repr'><svg class='icon xr-icon-database'><use xlink:href='#icon-database'></use></svg></label><div class='xr-var-attrs'><dl class='xr-attrs'></dl></div><div class='xr-var-data'><pre>array([ 1,  7,  2,  1,  1,  1,  2, 13,  3,  2,  1,  1,  2,  1,  5,  2,  3,\n",
       "        2,  1,  1,  1,  1,  4,  1,  2,  1,  1,  3,  6,  4,  3,  1,  4,  1,\n",
       "        1,  3,  7,  4,  1,  2,  4,  1,  1,  8,  1,  1,  9, 14,  1,  5,  3,\n",
       "        2,  2,  2,  1,  1,  1,  2,  2,  2,  1, 17, 11,  3,  1,  5,  1,  1,\n",
       "        9,  4,  1, 33, 28, 56,  2,  1,  1,  1,  4,  1, 20,  1,  6,  1,  2,\n",
       "        2,  1,  2,  1,  2,  1,  7,  3,  1,  1, 14, 28,  1, 20,  4,  8, 13,\n",
       "        3,  1,  5, 15,  1,  1,  4,  6,  1, 10, 46,  9,  1,  2,  1,  3,  5,\n",
       "        8,  2,  1,  2,  7, 13, 19,  9,  9,  3,  6, 13])</pre></div></li><li class='xr-var-item'><div class='xr-var-name'><span>dmr_start</span></div><div class='xr-var-dims'>(dmr)</div><div class='xr-var-dtype'>int64</div><div class='xr-var-preview xr-preview'>10002170 10003237 ... 5099617</div><input id='attrs-854d5804-f949-43dc-89b6-88215d482708' class='xr-var-attrs-in' type='checkbox' disabled><label for='attrs-854d5804-f949-43dc-89b6-88215d482708' title='Show/Hide attributes'><svg class='icon xr-icon-file-text2'><use xlink:href='#icon-file-text2'></use></svg></label><input id='data-c79cd8e4-2fe5-4412-bddd-5f76a024ebf8' class='xr-var-data-in' type='checkbox'><label for='data-c79cd8e4-2fe5-4412-bddd-5f76a024ebf8' title='Show/Hide data repr'><svg class='icon xr-icon-database'><use xlink:href='#icon-database'></use></svg></label><div class='xr-var-attrs'><dl class='xr-attrs'></dl></div><div class='xr-var-data'><pre>array([10002170, 10003237, 10003913, 10005477, 10007097, 10007756,\n",
       "       10008879, 10009487,  5000023,  5000331,  5000713,  5001504,\n",
       "        5001527,  5002856,  5003358,  5004657,  5005173,  5005615,\n",
       "        5006787,  5008013,  5008082,  5008128,  5008623,  5010089,\n",
       "        5011022,  5011722,  5011924,  5012328,  5012612,  5013263,\n",
       "        5013420,  5014248,  5014474,  5014919,  5015097,  5016056,\n",
       "        5016406,  5017126,  5017654,  5018292,  5018870,  5019654,\n",
       "        5020496,  5021073,  5022032,  5022297,  5023146,  5024732,\n",
       "        5026011,  5026510,  5027979,  5029201,  5029448,  5029781,\n",
       "        5031621,  5032341,  5033663,  5035169,  5036123,  5036580,\n",
       "        5037798,  5039762,  5040320,  5042005,  5042539,  5042964,\n",
       "        5043816,  5045204,  5045761,  5046406,  5047137,  5047850,\n",
       "        5050735,  5052020,  5056031,  5056187,  5056307,  5056640,\n",
       "        5056899,  5057231,  5057929,  5059539,  5059808,  5060634,\n",
       "        5060906,  5061544,  5061958,  5062138,  5062650,  5063224,\n",
       "        5064725,  5064979,  5065751,  5066072,  5066403,  5067143,\n",
       "        5068389,  5070130,  5070995,  5071674,  5073638,  5074234,\n",
       "        5075671,  5076377,  5076738,  5077624,  5078803,  5080038,\n",
       "        5080170,  5080717,  5081238,  5081428,  5081840,  5082918,\n",
       "        5083584,  5084088,  5084684,  5085932,  5086993,  5087216,\n",
       "        5089435,  5089732,  5090145,  5091386,  5092148,  5093098,\n",
       "        5094969,  5096538,  5097675,  5098804,  5099617])</pre></div></li><li class='xr-var-item'><div class='xr-var-name'><span class='xr-has-index'>sample_collapsed</span></div><div class='xr-var-dims'>(sample_collapsed)</div><div class='xr-var-dtype'>object</div><div class='xr-var-preview xr-preview'>&#x27;ASC&#x27; &#x27;CA1&#x27; &#x27;CA23&#x27; ... &#x27;ODC&#x27; &#x27;OPC&#x27;</div><input id='attrs-c16c7b7b-3d63-4a4d-919c-bbc34300a263' class='xr-var-attrs-in' type='checkbox' disabled><label for='attrs-c16c7b7b-3d63-4a4d-919c-bbc34300a263' title='Show/Hide attributes'><svg class='icon xr-icon-file-text2'><use xlink:href='#icon-file-text2'></use></svg></label><input id='data-4c480f98-3faa-4f9a-8d55-6feb841591b4' class='xr-var-data-in' type='checkbox'><label for='data-4c480f98-3faa-4f9a-8d55-6feb841591b4' title='Show/Hide data repr'><svg class='icon xr-icon-database'><use xlink:href='#icon-database'></use></svg></label><div class='xr-var-attrs'><dl class='xr-attrs'></dl></div><div class='xr-var-data'><pre>array([&#x27;ASC&#x27;, &#x27;CA1&#x27;, &#x27;CA23&#x27;, &#x27;CGE-VipLamp5&#x27;, &#x27;DG&#x27;, &#x27;MGC&#x27;, &#x27;MGE-PvSst&#x27;, &#x27;NonN&#x27;,\n",
       "       &#x27;ODC&#x27;, &#x27;OPC&#x27;], dtype=object)</pre></div></li></ul></div></li><li class='xr-section-item'><input id='section-8918ec8b-7eb6-4590-9b95-1a46fb7e22ec' class='xr-section-summary-in' type='checkbox' disabled ><label for='section-8918ec8b-7eb6-4590-9b95-1a46fb7e22ec' class='xr-section-summary'  title='Expand/collapse section'>Attributes: <span>(0)</span></label><div class='xr-section-inline-details'></div><div class='xr-section-details'><dl class='xr-attrs'></dl></div></li></ul></div></div>"
      ],
      "text/plain": [
       "<xarray.DataArray 'dmr_state_collapsed' (dmr: 131, sample_collapsed: 10)>\n",
       "array([[ 0,  0,  0, ...,  0,  0,  0],\n",
       "       [ 0,  1,  1, ..., -1, -1, -1],\n",
       "       [-1,  1,  1, ..., -1, -1, -1],\n",
       "       ...,\n",
       "       [ 0, -1, -1, ...,  1,  1,  0],\n",
       "       [ 0, -1, -1, ...,  0,  1,  0],\n",
       "       [-1, -1, -1, ...,  1,  1, -1]], dtype=int8)\n",
       "Coordinates:\n",
       "  * dmr               (dmr) object 'chr1-0' 'chr1-1' ... 'chr19-121' 'chr19-122'\n",
       "    dmr_chrom         (dmr) <U5 'chr1' 'chr1' 'chr1' ... 'chr19' 'chr19' 'chr19'\n",
       "    dmr_end           (dmr) int64 10002172 10003542 10003967 ... 5099203 5099952\n",
       "    dmr_length        (dmr) int64 2 305 54 2 2 2 10 ... 924 632 842 195 399 335\n",
       "    dmr_ndms          (dmr) int64 1 7 2 1 1 1 2 13 3 2 ... 2 7 13 19 9 9 3 6 13\n",
       "    dmr_start         (dmr) int64 10002170 10003237 10003913 ... 5098804 5099617\n",
       "  * sample_collapsed  (sample_collapsed) object 'ASC' 'CA1' ... 'ODC' 'OPC'"
      ]
     },
     "execution_count": 7,
     "metadata": {},
     "output_type": "execute_result"
    }
   ],
   "source": [
    "# this dataarray is newly added\n",
    "region_ds['dmr_state_collapsed']"
   ]
  },
  {
   "cell_type": "code",
   "execution_count": 8,
   "id": "787e6668",
   "metadata": {
    "ExecuteTime": {
     "end_time": "2022-01-04T18:49:25.418719Z",
     "start_time": "2022-01-04T18:49:25.415624Z"
    }
   },
   "outputs": [],
   "source": [
    "# you can get collapsed sample DMR ids\n",
    "ca1_hypo, ca1_hyper = region_ds.get_hypo_hyper_index('CA1')"
   ]
  },
  {
   "cell_type": "code",
   "execution_count": 9,
   "id": "843b2e42",
   "metadata": {
    "ExecuteTime": {
     "end_time": "2022-01-04T18:49:26.269118Z",
     "start_time": "2022-01-04T18:49:26.265550Z"
    }
   },
   "outputs": [
    {
     "data": {
      "text/plain": [
       "Index(['chr1-3', 'chr1-5', 'chr19-1', 'chr19-4', 'chr19-17', 'chr19-21',\n",
       "       'chr19-24', 'chr19-25', 'chr19-26', 'chr19-27', 'chr19-28', 'chr19-34',\n",
       "       'chr19-38', 'chr19-39', 'chr19-42', 'chr19-43', 'chr19-45', 'chr19-46',\n",
       "       'chr19-48', 'chr19-52', 'chr19-53', 'chr19-54', 'chr19-55', 'chr19-57',\n",
       "       'chr19-58', 'chr19-60', 'chr19-61', 'chr19-63', 'chr19-64', 'chr19-65',\n",
       "       'chr19-66', 'chr19-67', 'chr19-70', 'chr19-72', 'chr19-79', 'chr19-81',\n",
       "       'chr19-88', 'chr19-90', 'chr19-91', 'chr19-92', 'chr19-95', 'chr19-96',\n",
       "       'chr19-97', 'chr19-98', 'chr19-100', 'chr19-101', 'chr19-103',\n",
       "       'chr19-104', 'chr19-105', 'chr19-107', 'chr19-108', 'chr19-109',\n",
       "       'chr19-111', 'chr19-112', 'chr19-113', 'chr19-114', 'chr19-115',\n",
       "       'chr19-116', 'chr19-117', 'chr19-118', 'chr19-119', 'chr19-120',\n",
       "       'chr19-121', 'chr19-122'],\n",
       "      dtype='object', name='dmr')"
      ]
     },
     "execution_count": 9,
     "metadata": {},
     "output_type": "execute_result"
    }
   ],
   "source": [
    "ca1_hypo"
   ]
  },
  {
   "cell_type": "code",
   "execution_count": 10,
   "id": "0275fa31",
   "metadata": {
    "ExecuteTime": {
     "end_time": "2022-01-04T18:49:27.748480Z",
     "start_time": "2022-01-04T18:49:27.745371Z"
    }
   },
   "outputs": [
    {
     "data": {
      "text/plain": [
       "Index(['chr1-1', 'chr1-2', 'chr1-7', 'chr19-6', 'chr19-7', 'chr19-8',\n",
       "       'chr19-9', 'chr19-11', 'chr19-13', 'chr19-14', 'chr19-18', 'chr19-19',\n",
       "       'chr19-20', 'chr19-22', 'chr19-32', 'chr19-35', 'chr19-40', 'chr19-50',\n",
       "       'chr19-82', 'chr19-83', 'chr19-84', 'chr19-87', 'chr19-89'],\n",
       "      dtype='object', name='dmr')"
      ]
     },
     "execution_count": 10,
     "metadata": {},
     "output_type": "execute_result"
    }
   ],
   "source": [
    "ca1_hyper"
   ]
  },
  {
   "cell_type": "code",
   "execution_count": null,
   "id": "68614ce9",
   "metadata": {},
   "outputs": [],
   "source": []
  },
  {
   "cell_type": "code",
   "execution_count": null,
   "id": "fd983c73",
   "metadata": {},
   "outputs": [],
   "source": []
  },
  {
   "cell_type": "code",
   "execution_count": null,
   "id": "fe592e57",
   "metadata": {},
   "outputs": [],
   "source": []
  },
  {
   "cell_type": "code",
   "execution_count": null,
   "id": "b8ae6e4a",
   "metadata": {},
   "outputs": [],
   "source": []
  },
  {
   "cell_type": "code",
   "execution_count": null,
   "id": "6411d9b6",
   "metadata": {},
   "outputs": [],
   "source": []
  },
  {
   "cell_type": "code",
   "execution_count": null,
   "id": "656b2006",
   "metadata": {},
   "outputs": [],
   "source": []
  },
  {
   "cell_type": "code",
   "execution_count": null,
   "id": "9b5b36b9",
   "metadata": {},
   "outputs": [],
   "source": []
  },
  {
   "cell_type": "code",
   "execution_count": null,
   "id": "08f86141",
   "metadata": {},
   "outputs": [],
   "source": []
  },
  {
   "cell_type": "code",
   "execution_count": null,
   "id": "6aaf1681",
   "metadata": {},
   "outputs": [],
   "source": []
  },
  {
   "cell_type": "code",
   "execution_count": null,
   "id": "16069d68",
   "metadata": {},
   "outputs": [],
   "source": []
  },
  {
   "cell_type": "code",
   "execution_count": null,
   "id": "389534e8",
   "metadata": {},
   "outputs": [],
   "source": []
  },
  {
   "cell_type": "code",
   "execution_count": null,
   "id": "51ef3800",
   "metadata": {},
   "outputs": [],
   "source": []
  },
  {
   "cell_type": "code",
   "execution_count": null,
   "id": "56a8edc0",
   "metadata": {},
   "outputs": [],
   "source": []
  }
 ],
 "metadata": {
  "hide_input": false,
  "kernelspec": {
   "display_name": "Python 3 (ipykernel)",
   "language": "python",
   "name": "python3"
  },
  "language_info": {
   "codemirror_mode": {
    "name": "ipython",
    "version": 3
   },
   "file_extension": ".py",
   "mimetype": "text/x-python",
   "name": "python",
   "nbconvert_exporter": "python",
   "pygments_lexer": "ipython3",
   "version": "3.8.6"
  },
  "toc": {
   "base_numbering": 1,
   "nav_menu": {},
   "number_sections": true,
   "sideBar": true,
   "skip_h1_title": true,
   "title_cell": "Table of Contents",
   "title_sidebar": "Contents",
   "toc_cell": false,
   "toc_position": {},
   "toc_section_display": true,
   "toc_window_display": true
  }
 },
 "nbformat": 4,
 "nbformat_minor": 5
}
