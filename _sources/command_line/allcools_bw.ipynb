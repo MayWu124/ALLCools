{
 "cells": [
  {
   "cell_type": "markdown",
   "metadata": {},
   "source": [
    "# `allcools bw`"
   ]
  },
  {
   "cell_type": "code",
   "execution_count": 1,
   "metadata": {
    "ExecuteTime": {
     "end_time": "2021-03-14T07:54:19.642069Z",
     "start_time": "2021-03-14T07:54:19.638676Z"
    },
    "tags": [
     "remove-cell"
    ]
   },
   "outputs": [],
   "source": [
    "import subprocess\n",
    "from IPython.display import display, Markdown\n",
    "\n",
    "\n",
    "def execute_command_and_return_markdown(command):\n",
    "    output = subprocess.run(command,\n",
    "                            shell=True,\n",
    "                            check=True,\n",
    "                            stdout=subprocess.PIPE,\n",
    "                            encoding='utf8').stdout\n",
    "    markdown = f\"\"\"\n",
    "```shell\n",
    "$ {command}\n",
    "{output}\n",
    "```\n",
    "\"\"\"\n",
    "    display(Markdown(markdown))\n",
    "    return"
   ]
  },
  {
   "cell_type": "code",
   "execution_count": 2,
   "metadata": {
    "ExecuteTime": {
     "end_time": "2021-03-14T07:54:19.893679Z",
     "start_time": "2021-03-14T07:54:19.826598Z"
    },
    "tags": [
     "hide-input"
    ]
   },
   "outputs": [
    {
     "data": {
      "text/markdown": [
       "\n",
       "```shell\n",
       "$ allcools allc-to-bigwig -h\n",
       "usage: allcools allc-to-bigwig [-h] --allc_path ALLC_PATH --output_prefix\n",
       "                               OUTPUT_PREFIX --chrom_size_path CHROM_SIZE_PATH\n",
       "                               --mc_contexts MC_CONTEXTS [MC_CONTEXTS ...]\n",
       "                               [--split_strand] [--bin_size BIN_SIZE]\n",
       "                               [--remove_additional_chrom] [--region REGION]\n",
       "                               [--cov_cutoff COV_CUTOFF]\n",
       "                               [--path_to_wigtobigwig PATH_TO_WIGTOBIGWIG]\n",
       "                               [--cpu CPU]\n",
       "\n",
       "optional arguments:\n",
       "  -h, --help            show this help message and exit\n",
       "  --split_strand        If true, Watson (+) and Crick (-) strands will be\n",
       "                        count separately (default: False)\n",
       "  --bin_size BIN_SIZE   Minimum bin size of bigwig file (default: 50)\n",
       "  --remove_additional_chrom\n",
       "                        Whether to remove rows with unknown chromosome instead\n",
       "                        of raising KeyError (default: False)\n",
       "  --region REGION       Only extract records from certain genome region(s) via\n",
       "                        tabix, multiple region can be provided in tabix form.\n",
       "                        If region is not None, will not run in parallel\n",
       "                        (default: None)\n",
       "  --cov_cutoff COV_CUTOFF\n",
       "                        Max cov filter for a single site in ALLC. Sites with\n",
       "                        cov > cov_cutoff will be skipped. (default: 9999)\n",
       "  --path_to_wigtobigwig PATH_TO_WIGTOBIGWIG\n",
       "                        Path to wigtobigwig to allow allcools to find it\n",
       "                        (default: )\n",
       "  --cpu CPU             Number of processes to use in parallel. (default: 1)\n",
       "\n",
       "required arguments:\n",
       "  --allc_path ALLC_PATH\n",
       "                        Path to 1 ALLC file (default: None)\n",
       "  --output_prefix OUTPUT_PREFIX\n",
       "                        Output prefix of the bigwig file(s). (default: None)\n",
       "  --chrom_size_path CHROM_SIZE_PATH\n",
       "                        Path to UCSC chrom size file. This can be generated\n",
       "                        from the genome fasta or downloaded via UCSC\n",
       "                        fetchChromSizes tools. All ALLCools functions will\n",
       "                        refer to this file whenever possible to check for\n",
       "                        chromosome names and lengths, so it is crucial to use\n",
       "                        a chrom size file consistent to the reference fasta\n",
       "                        file ever since mapping. ALLCools functions will not\n",
       "                        change or infer chromosome names. (default: None)\n",
       "  --mc_contexts MC_CONTEXTS [MC_CONTEXTS ...]\n",
       "                        Space separated mC context patterns to extract from\n",
       "                        ALLC. The context length should be the same as ALLC\n",
       "                        file context. Context pattern follows IUPAC nucleotide\n",
       "                        code, e.g. N for ATCG, H for ATC, Y for CT. (default:\n",
       "                        None)\n",
       "\n",
       "```\n"
      ],
      "text/plain": [
       "<IPython.core.display.Markdown object>"
      ]
     },
     "metadata": {},
     "output_type": "display_data"
    }
   ],
   "source": [
    "execute_command_and_return_markdown('allcools allc-to-bigwig -h')"
   ]
  },
  {
   "cell_type": "code",
   "execution_count": null,
   "metadata": {},
   "outputs": [],
   "source": []
  }
 ],
 "metadata": {
  "celltoolbar": "Tags",
  "hide_input": false,
  "kernelspec": {
   "display_name": "Python 3",
   "language": "python",
   "name": "python3"
  },
  "language_info": {
   "codemirror_mode": {
    "name": "ipython",
    "version": 3
   },
   "file_extension": ".py",
   "mimetype": "text/x-python",
   "name": "python",
   "nbconvert_exporter": "python",
   "pygments_lexer": "ipython3",
   "version": "3.8.6"
  },
  "toc": {
   "base_numbering": 1,
   "nav_menu": {},
   "number_sections": true,
   "sideBar": true,
   "skip_h1_title": true,
   "title_cell": "Table of Contents",
   "title_sidebar": "Contents",
   "toc_cell": false,
   "toc_position": {},
   "toc_section_display": true,
   "toc_window_display": true
  }
 },
 "nbformat": 4,
 "nbformat_minor": 4
}
