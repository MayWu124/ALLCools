{
 "cells": [
  {
   "cell_type": "code",
   "execution_count": 1,
   "metadata": {
    "ExecuteTime": {
     "end_time": "2021-10-03T07:09:40.236883Z",
     "start_time": "2021-10-03T07:09:39.399724Z"
    }
   },
   "outputs": [],
   "source": [
    "import pandas as pd\n",
    "import anndata"
   ]
  },
  {
   "cell_type": "code",
   "execution_count": 3,
   "metadata": {
    "ExecuteTime": {
     "end_time": "2021-10-03T07:09:59.196914Z",
     "start_time": "2021-10-03T07:09:58.682662Z"
    }
   },
   "outputs": [],
   "source": [
    "smart_n_genes = 5000\n",
    "\n",
    "smart_adata = anndata.read_h5ad('preprocess_SMART/TotalAdata.norm_log1p.h5ad')\n",
    "smart_hvf = smart_adata.var['dispersions_norm'].sort_values(ascending=False).dropna()[:smart_n_genes].index"
   ]
  },
  {
   "cell_type": "code",
   "execution_count": 4,
   "metadata": {
    "ExecuteTime": {
     "end_time": "2021-10-03T07:10:11.316935Z",
     "start_time": "2021-10-03T07:10:11.162835Z"
    }
   },
   "outputs": [],
   "source": [
    "tenx_n_genes = 5000\n",
    "\n",
    "tenx_adata = anndata.read_h5ad('preprocess_10X/PseudoCellAdata.norm_log1p.h5ad')\n",
    "tenx_hvf = tenx_adata.var['dispersions_norm'].sort_values(ascending=False).dropna()[:tenx_n_genes].index"
   ]
  },
  {
   "cell_type": "code",
   "execution_count": 5,
   "metadata": {
    "ExecuteTime": {
     "end_time": "2021-10-03T07:10:17.191959Z",
     "start_time": "2021-10-03T07:10:17.035216Z"
    }
   },
   "outputs": [],
   "source": [
    "atac_n_genes = 5000\n",
    "\n",
    "atac_adata = anndata.read_h5ad('preprocess_snATAC/PseudoCellAdata.norm_log1p.h5ad')\n",
    "atac_hvf = atac_adata.var['dispersions_norm'].sort_values(ascending=False).dropna()[:atac_n_genes].index"
   ]
  },
  {
   "cell_type": "code",
   "execution_count": 6,
   "metadata": {
    "ExecuteTime": {
     "end_time": "2021-10-03T07:10:20.480876Z",
     "start_time": "2021-10-03T07:10:18.866121Z"
    }
   },
   "outputs": [],
   "source": [
    "snmc_adata = anndata.read_h5ad('../input/snmC.Neuron.gene_CHN_fracs.h5ad')\n",
    "snm3c_adata = anndata.read_h5ad('../input/snm3C.Neuron.gene_CHN_fracs.h5ad')"
   ]
  },
  {
   "cell_type": "code",
   "execution_count": 7,
   "metadata": {
    "ExecuteTime": {
     "end_time": "2021-10-03T07:10:21.242966Z",
     "start_time": "2021-10-03T07:10:21.228642Z"
    }
   },
   "outputs": [],
   "source": [
    "hvfs = atac_hvf.intersection(smart_hvf).intersection(tenx_hvf).intersection(\n",
    "    snmc_adata.var_names).intersection(snm3c_adata.var_names)"
   ]
  },
  {
   "cell_type": "code",
   "execution_count": 8,
   "metadata": {
    "ExecuteTime": {
     "end_time": "2021-10-03T07:10:21.928420Z",
     "start_time": "2021-10-03T07:10:21.925850Z"
    }
   },
   "outputs": [],
   "source": [
    "with open('hvgs.txt', 'w') as f:\n",
    "    f.write('\\n'.join(hvfs))"
   ]
  },
  {
   "cell_type": "code",
   "execution_count": 9,
   "metadata": {
    "ExecuteTime": {
     "end_time": "2021-10-03T07:10:22.410426Z",
     "start_time": "2021-10-03T07:10:22.405790Z"
    }
   },
   "outputs": [
    {
     "data": {
      "text/plain": [
       "618"
      ]
     },
     "execution_count": 9,
     "metadata": {},
     "output_type": "execute_result"
    }
   ],
   "source": [
    "hvfs.size"
   ]
  },
  {
   "cell_type": "code",
   "execution_count": null,
   "metadata": {},
   "outputs": [],
   "source": []
  },
  {
   "cell_type": "code",
   "execution_count": null,
   "metadata": {},
   "outputs": [],
   "source": []
  },
  {
   "cell_type": "code",
   "execution_count": null,
   "metadata": {},
   "outputs": [],
   "source": []
  }
 ],
 "metadata": {
  "hide_input": false,
  "kernelspec": {
   "display_name": "Python 3",
   "language": "python",
   "name": "python3"
  },
  "language_info": {
   "codemirror_mode": {
    "name": "ipython",
    "version": 3
   },
   "file_extension": ".py",
   "mimetype": "text/x-python",
   "name": "python",
   "nbconvert_exporter": "python",
   "pygments_lexer": "ipython3",
   "version": "3.8.6"
  },
  "toc": {
   "base_numbering": 1,
   "nav_menu": {},
   "number_sections": true,
   "sideBar": true,
   "skip_h1_title": true,
   "title_cell": "Table of Contents",
   "title_sidebar": "Contents",
   "toc_cell": false,
   "toc_position": {},
   "toc_section_display": true,
   "toc_window_display": true
  }
 },
 "nbformat": 4,
 "nbformat_minor": 4
}
