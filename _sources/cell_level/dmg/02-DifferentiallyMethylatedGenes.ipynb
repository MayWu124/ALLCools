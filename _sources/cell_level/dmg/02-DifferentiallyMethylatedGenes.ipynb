{
 "cells": [
  {
   "cell_type": "markdown",
   "metadata": {
    "pycharm": {
     "name": "#%% md\n"
    }
   },
   "source": [
    "# Cluster Differentially Methylated Genes"
   ]
  },
  {
   "cell_type": "markdown",
   "metadata": {
    "pycharm": {
     "name": "#%% md\n"
    }
   },
   "source": [
    "## Load"
   ]
  },
  {
   "cell_type": "code",
   "execution_count": 1,
   "metadata": {
    "ExecuteTime": {
     "end_time": "2022-08-09T21:56:53.418607Z",
     "start_time": "2022-08-09T21:56:51.141840Z"
    },
    "pycharm": {
     "name": "#%%\n"
    }
   },
   "outputs": [],
   "source": [
    "import pandas as pd\n",
    "from ALLCools.clustering import one_vs_rest_dmg"
   ]
  },
  {
   "cell_type": "markdown",
   "metadata": {
    "pycharm": {
     "name": "#%% md\n"
    }
   },
   "source": [
    "## Parameters"
   ]
  },
  {
   "cell_type": "code",
   "execution_count": 2,
   "metadata": {
    "ExecuteTime": {
     "end_time": "2022-08-09T21:56:53.426100Z",
     "start_time": "2022-08-09T21:56:53.421962Z"
    },
    "pycharm": {
     "name": "#%%\n"
    }
   },
   "outputs": [],
   "source": [
    "mcds_paths = 'geneslop2k-vm23_frac.mcds/'\n",
    "cell_meta_path = '../step_by_step/100kb/L1.ClusteringResults.csv.gz'\n",
    "cluster_col = 'L1'\n",
    "\n",
    "obs_dim = 'cell'\n",
    "var_dim = 'geneslop2k-vm23'\n",
    "mc_type = 'CHN'\n",
    "\n",
    "top_n = 1000\n",
    "auroc_cutoff = 0.8\n",
    "adj_p_cutoff = 0.001\n",
    "fc_cutoff = 0.8\n",
    "max_cluster_cells = 2000\n",
    "max_other_fold = 5\n",
    "cpu = 10"
   ]
  },
  {
   "cell_type": "markdown",
   "metadata": {
    "pycharm": {
     "name": "#%% md\n"
    }
   },
   "source": [
    "## Load"
   ]
  },
  {
   "cell_type": "code",
   "execution_count": 3,
   "metadata": {
    "ExecuteTime": {
     "end_time": "2022-08-09T21:56:53.495919Z",
     "start_time": "2022-08-09T21:56:53.428957Z"
    },
    "pycharm": {
     "name": "#%%\n"
    }
   },
   "outputs": [
    {
     "data": {
      "text/html": [
       "<div>\n",
       "<style scoped>\n",
       "    .dataframe tbody tr th:only-of-type {\n",
       "        vertical-align: middle;\n",
       "    }\n",
       "\n",
       "    .dataframe tbody tr th {\n",
       "        vertical-align: top;\n",
       "    }\n",
       "\n",
       "    .dataframe thead th {\n",
       "        text-align: right;\n",
       "    }\n",
       "</style>\n",
       "<table border=\"1\" class=\"dataframe\">\n",
       "  <thead>\n",
       "    <tr style=\"text-align: right;\">\n",
       "      <th></th>\n",
       "      <th>AllcPath</th>\n",
       "      <th>mCCCFrac</th>\n",
       "      <th>mCGFrac</th>\n",
       "      <th>mCGFracAdj</th>\n",
       "      <th>mCHFrac</th>\n",
       "      <th>mCHFracAdj</th>\n",
       "      <th>FinalReads</th>\n",
       "      <th>InputReads</th>\n",
       "      <th>MappedReads</th>\n",
       "      <th>DissectionRegion</th>\n",
       "      <th>...</th>\n",
       "      <th>Row384</th>\n",
       "      <th>FANSDate</th>\n",
       "      <th>Slice</th>\n",
       "      <th>Sample</th>\n",
       "      <th>leiden</th>\n",
       "      <th>mCHFrac.1</th>\n",
       "      <th>tsne_0</th>\n",
       "      <th>tsne_1</th>\n",
       "      <th>L1</th>\n",
       "      <th>L1_proba</th>\n",
       "    </tr>\n",
       "  </thead>\n",
       "  <tbody>\n",
       "    <tr>\n",
       "      <th>8E_M_10</th>\n",
       "      <td>/gale/raidix/rdx-4/mapping/8E/CEMBA190711-8E-1...</td>\n",
       "      <td>0.005505</td>\n",
       "      <td>0.744279</td>\n",
       "      <td>0.742863</td>\n",
       "      <td>0.020649</td>\n",
       "      <td>0.015228</td>\n",
       "      <td>2714916.0</td>\n",
       "      <td>6036476</td>\n",
       "      <td>4014048.0</td>\n",
       "      <td>8E</td>\n",
       "      <td>...</td>\n",
       "      <td>0</td>\n",
       "      <td>190711</td>\n",
       "      <td>8</td>\n",
       "      <td>8E_190711</td>\n",
       "      <td>8</td>\n",
       "      <td>0.020649</td>\n",
       "      <td>-7.646137</td>\n",
       "      <td>16.721509</td>\n",
       "      <td>c8</td>\n",
       "      <td>0.549360</td>\n",
       "    </tr>\n",
       "    <tr>\n",
       "      <th>8E_M_100</th>\n",
       "      <td>/gale/raidix/rdx-4/mapping/8E/CEMBA190711-8E-1...</td>\n",
       "      <td>0.004702</td>\n",
       "      <td>0.723100</td>\n",
       "      <td>0.721792</td>\n",
       "      <td>0.012400</td>\n",
       "      <td>0.007735</td>\n",
       "      <td>3302547.0</td>\n",
       "      <td>7683706</td>\n",
       "      <td>5370970.0</td>\n",
       "      <td>8E</td>\n",
       "      <td>...</td>\n",
       "      <td>2</td>\n",
       "      <td>190711</td>\n",
       "      <td>8</td>\n",
       "      <td>8E_190711</td>\n",
       "      <td>7</td>\n",
       "      <td>0.012400</td>\n",
       "      <td>5.817251</td>\n",
       "      <td>25.264501</td>\n",
       "      <td>c8</td>\n",
       "      <td>0.395962</td>\n",
       "    </tr>\n",
       "    <tr>\n",
       "      <th>8E_M_1000</th>\n",
       "      <td>/gale/raidix/rdx-4/mapping/8E/CEMBA190711-8E-3...</td>\n",
       "      <td>0.005423</td>\n",
       "      <td>0.739960</td>\n",
       "      <td>0.738542</td>\n",
       "      <td>0.021733</td>\n",
       "      <td>0.016399</td>\n",
       "      <td>1369094.0</td>\n",
       "      <td>3658050</td>\n",
       "      <td>2381916.0</td>\n",
       "      <td>8E</td>\n",
       "      <td>...</td>\n",
       "      <td>5</td>\n",
       "      <td>190711</td>\n",
       "      <td>8</td>\n",
       "      <td>8E_190711</td>\n",
       "      <td>8</td>\n",
       "      <td>0.021733</td>\n",
       "      <td>-26.855708</td>\n",
       "      <td>14.451151</td>\n",
       "      <td>c1</td>\n",
       "      <td>0.921800</td>\n",
       "    </tr>\n",
       "    <tr>\n",
       "      <th>8E_M_1002</th>\n",
       "      <td>/gale/raidix/rdx-4/mapping/8E/CEMBA190711-8E-3...</td>\n",
       "      <td>0.004117</td>\n",
       "      <td>0.745511</td>\n",
       "      <td>0.744459</td>\n",
       "      <td>0.010192</td>\n",
       "      <td>0.006101</td>\n",
       "      <td>4571390.0</td>\n",
       "      <td>11822434</td>\n",
       "      <td>8079217.0</td>\n",
       "      <td>8E</td>\n",
       "      <td>...</td>\n",
       "      <td>5</td>\n",
       "      <td>190711</td>\n",
       "      <td>8</td>\n",
       "      <td>8E_190711</td>\n",
       "      <td>15</td>\n",
       "      <td>0.010192</td>\n",
       "      <td>29.288899</td>\n",
       "      <td>24.082294</td>\n",
       "      <td>c4</td>\n",
       "      <td>0.899333</td>\n",
       "    </tr>\n",
       "    <tr>\n",
       "      <th>8E_M_1003</th>\n",
       "      <td>/gale/raidix/rdx-4/mapping/8E/CEMBA190711-8E-3...</td>\n",
       "      <td>0.005528</td>\n",
       "      <td>0.750461</td>\n",
       "      <td>0.749074</td>\n",
       "      <td>0.023083</td>\n",
       "      <td>0.017652</td>\n",
       "      <td>1334845.0</td>\n",
       "      <td>3479288</td>\n",
       "      <td>2337068.0</td>\n",
       "      <td>8E</td>\n",
       "      <td>...</td>\n",
       "      <td>4</td>\n",
       "      <td>190711</td>\n",
       "      <td>8</td>\n",
       "      <td>8E_190711</td>\n",
       "      <td>3</td>\n",
       "      <td>0.023083</td>\n",
       "      <td>-12.959669</td>\n",
       "      <td>1.623964</td>\n",
       "      <td>c1</td>\n",
       "      <td>0.554967</td>\n",
       "    </tr>\n",
       "  </tbody>\n",
       "</table>\n",
       "<p>5 rows × 24 columns</p>\n",
       "</div>"
      ],
      "text/plain": [
       "                                                    AllcPath  mCCCFrac  \\\n",
       "8E_M_10    /gale/raidix/rdx-4/mapping/8E/CEMBA190711-8E-1...  0.005505   \n",
       "8E_M_100   /gale/raidix/rdx-4/mapping/8E/CEMBA190711-8E-1...  0.004702   \n",
       "8E_M_1000  /gale/raidix/rdx-4/mapping/8E/CEMBA190711-8E-3...  0.005423   \n",
       "8E_M_1002  /gale/raidix/rdx-4/mapping/8E/CEMBA190711-8E-3...  0.004117   \n",
       "8E_M_1003  /gale/raidix/rdx-4/mapping/8E/CEMBA190711-8E-3...  0.005528   \n",
       "\n",
       "            mCGFrac  mCGFracAdj   mCHFrac  mCHFracAdj  FinalReads  InputReads  \\\n",
       "8E_M_10    0.744279    0.742863  0.020649    0.015228   2714916.0     6036476   \n",
       "8E_M_100   0.723100    0.721792  0.012400    0.007735   3302547.0     7683706   \n",
       "8E_M_1000  0.739960    0.738542  0.021733    0.016399   1369094.0     3658050   \n",
       "8E_M_1002  0.745511    0.744459  0.010192    0.006101   4571390.0    11822434   \n",
       "8E_M_1003  0.750461    0.749074  0.023083    0.017652   1334845.0     3479288   \n",
       "\n",
       "           MappedReads DissectionRegion  ...  Row384  FANSDate Slice  \\\n",
       "8E_M_10      4014048.0               8E  ...       0    190711     8   \n",
       "8E_M_100     5370970.0               8E  ...       2    190711     8   \n",
       "8E_M_1000    2381916.0               8E  ...       5    190711     8   \n",
       "8E_M_1002    8079217.0               8E  ...       5    190711     8   \n",
       "8E_M_1003    2337068.0               8E  ...       4    190711     8   \n",
       "\n",
       "              Sample  leiden  mCHFrac.1     tsne_0     tsne_1  L1  L1_proba  \n",
       "8E_M_10    8E_190711       8   0.020649  -7.646137  16.721509  c8  0.549360  \n",
       "8E_M_100   8E_190711       7   0.012400   5.817251  25.264501  c8  0.395962  \n",
       "8E_M_1000  8E_190711       8   0.021733 -26.855708  14.451151  c1  0.921800  \n",
       "8E_M_1002  8E_190711      15   0.010192  29.288899  24.082294  c4  0.899333  \n",
       "8E_M_1003  8E_190711       3   0.023083 -12.959669   1.623964  c1  0.554967  \n",
       "\n",
       "[5 rows x 24 columns]"
      ]
     },
     "execution_count": 3,
     "metadata": {},
     "output_type": "execute_result"
    }
   ],
   "source": [
    "cell_meta = pd.read_csv('../../cell_level/step_by_step/100kb/L1.ClusteringResults.csv.gz', index_col=0)\n",
    "cell_meta.head()"
   ]
  },
  {
   "cell_type": "markdown",
   "metadata": {
    "pycharm": {
     "name": "#%% md\n"
    }
   },
   "source": [
    "## Calculate DMG"
   ]
  },
  {
   "cell_type": "code",
   "execution_count": 4,
   "metadata": {
    "ExecuteTime": {
     "end_time": "2022-08-09T21:57:47.618004Z",
     "start_time": "2022-08-09T21:56:53.498419Z"
    },
    "pycharm": {
     "name": "#%%\n"
    },
    "scrolled": true
   },
   "outputs": [
    {
     "name": "stdout",
     "output_type": "stream",
     "text": [
      "Calculating cluster c0 DMGs.\n",
      "Calculating cluster c1 DMGs.\n",
      "Calculating cluster c10 DMGs.\n",
      "Calculating cluster c11 DMGs.\n",
      "Calculating cluster c12 DMGs.\n",
      "Calculating cluster c13 DMGs.\n",
      "Calculating cluster c2 DMGs.\n",
      "Calculating cluster c3 DMGs.\n",
      "Calculating cluster c4 DMGs.\n",
      "Calculating cluster c5 DMGs.\n",
      "Calculating cluster c6 DMGs.\n",
      "c13 Finished.\n",
      "Calculating cluster c7 DMGs.\n",
      "Calculating cluster c8 DMGs.\n",
      "c12 Finished.\n",
      "c11 Finished.\n",
      "Calculating cluster c9 DMGs.\n",
      "c10 Finished.\n",
      "c7 Finished.\n",
      "c8 Finished.\n",
      "c5 Finished.\n",
      "c9 Finished.\n",
      "c6 Finished.\n",
      "c4 Finished.\n",
      "c3 Finished.\n",
      "c2 Finished.\n",
      "c0 Finished.\n",
      "c1 Finished.\n"
     ]
    }
   ],
   "source": [
    "dmg_table = one_vs_rest_dmg(cell_meta,\n",
    "                            group=cluster_col,\n",
    "                            mcds_paths=mcds_paths,\n",
    "                            obs_dim=obs_dim,\n",
    "                            var_dim=var_dim,\n",
    "                            mc_type=mc_type,\n",
    "                            top_n=top_n,\n",
    "                            adj_p_cutoff=adj_p_cutoff,\n",
    "                            fc_cutoff=fc_cutoff,\n",
    "                            auroc_cutoff=auroc_cutoff,\n",
    "                            max_cluster_cells=max_cluster_cells,\n",
    "                            max_other_fold=max_other_fold,\n",
    "                            cpu=cpu)"
   ]
  },
  {
   "cell_type": "code",
   "execution_count": 6,
   "metadata": {
    "ExecuteTime": {
     "end_time": "2022-08-09T21:57:58.297789Z",
     "start_time": "2022-08-09T21:57:58.287054Z"
    }
   },
   "outputs": [
    {
     "data": {
      "text/html": [
       "<div>\n",
       "<style scoped>\n",
       "    .dataframe tbody tr th:only-of-type {\n",
       "        vertical-align: middle;\n",
       "    }\n",
       "\n",
       "    .dataframe tbody tr th {\n",
       "        vertical-align: top;\n",
       "    }\n",
       "\n",
       "    .dataframe thead th {\n",
       "        text-align: right;\n",
       "    }\n",
       "</style>\n",
       "<table border=\"1\" class=\"dataframe\">\n",
       "  <thead>\n",
       "    <tr style=\"text-align: right;\">\n",
       "      <th></th>\n",
       "      <th>pvals_adj</th>\n",
       "      <th>fc</th>\n",
       "      <th>AUROC</th>\n",
       "      <th>cluster</th>\n",
       "    </tr>\n",
       "    <tr>\n",
       "      <th>names</th>\n",
       "      <th></th>\n",
       "      <th></th>\n",
       "      <th></th>\n",
       "      <th></th>\n",
       "    </tr>\n",
       "  </thead>\n",
       "  <tbody>\n",
       "    <tr>\n",
       "      <th>ENSMUSG00000023079</th>\n",
       "      <td>1.532981e-15</td>\n",
       "      <td>0.148641</td>\n",
       "      <td>0.996777</td>\n",
       "      <td>c13</td>\n",
       "    </tr>\n",
       "    <tr>\n",
       "      <th>ENSMUSG00000027692</th>\n",
       "      <td>1.532981e-15</td>\n",
       "      <td>0.498391</td>\n",
       "      <td>0.995703</td>\n",
       "      <td>c13</td>\n",
       "    </tr>\n",
       "    <tr>\n",
       "      <th>ENSMUSG00000004633</th>\n",
       "      <td>1.532981e-15</td>\n",
       "      <td>0.450733</td>\n",
       "      <td>0.994531</td>\n",
       "      <td>c13</td>\n",
       "    </tr>\n",
       "    <tr>\n",
       "      <th>ENSMUSG00000027508</th>\n",
       "      <td>1.532981e-15</td>\n",
       "      <td>0.343717</td>\n",
       "      <td>0.992578</td>\n",
       "      <td>c13</td>\n",
       "    </tr>\n",
       "    <tr>\n",
       "      <th>ENSMUSG00000035067</th>\n",
       "      <td>1.532981e-15</td>\n",
       "      <td>0.306569</td>\n",
       "      <td>0.991797</td>\n",
       "      <td>c13</td>\n",
       "    </tr>\n",
       "    <tr>\n",
       "      <th>...</th>\n",
       "      <td>...</td>\n",
       "      <td>...</td>\n",
       "      <td>...</td>\n",
       "      <td>...</td>\n",
       "    </tr>\n",
       "    <tr>\n",
       "      <th>ENSMUSG00000034118</th>\n",
       "      <td>1.953162e-198</td>\n",
       "      <td>0.641361</td>\n",
       "      <td>0.800426</td>\n",
       "      <td>c1</td>\n",
       "    </tr>\n",
       "    <tr>\n",
       "      <th>ENSMUSG00000022801</th>\n",
       "      <td>2.459340e-198</td>\n",
       "      <td>0.673616</td>\n",
       "      <td>0.800350</td>\n",
       "      <td>c1</td>\n",
       "    </tr>\n",
       "    <tr>\n",
       "      <th>ENSMUSG00000031441</th>\n",
       "      <td>3.210826e-198</td>\n",
       "      <td>0.746399</td>\n",
       "      <td>0.800262</td>\n",
       "      <td>c1</td>\n",
       "    </tr>\n",
       "    <tr>\n",
       "      <th>ENSMUSG00000104318</th>\n",
       "      <td>3.542465e-198</td>\n",
       "      <td>0.659941</td>\n",
       "      <td>0.800229</td>\n",
       "      <td>c1</td>\n",
       "    </tr>\n",
       "    <tr>\n",
       "      <th>ENSMUSG00000026110</th>\n",
       "      <td>4.464808e-198</td>\n",
       "      <td>0.702767</td>\n",
       "      <td>0.800153</td>\n",
       "      <td>c1</td>\n",
       "    </tr>\n",
       "  </tbody>\n",
       "</table>\n",
       "<p>7664 rows × 4 columns</p>\n",
       "</div>"
      ],
      "text/plain": [
       "                        pvals_adj        fc     AUROC cluster\n",
       "names                                                        \n",
       "ENSMUSG00000023079   1.532981e-15  0.148641  0.996777     c13\n",
       "ENSMUSG00000027692   1.532981e-15  0.498391  0.995703     c13\n",
       "ENSMUSG00000004633   1.532981e-15  0.450733  0.994531     c13\n",
       "ENSMUSG00000027508   1.532981e-15  0.343717  0.992578     c13\n",
       "ENSMUSG00000035067   1.532981e-15  0.306569  0.991797     c13\n",
       "...                           ...       ...       ...     ...\n",
       "ENSMUSG00000034118  1.953162e-198  0.641361  0.800426      c1\n",
       "ENSMUSG00000022801  2.459340e-198  0.673616  0.800350      c1\n",
       "ENSMUSG00000031441  3.210826e-198  0.746399  0.800262      c1\n",
       "ENSMUSG00000104318  3.542465e-198  0.659941  0.800229      c1\n",
       "ENSMUSG00000026110  4.464808e-198  0.702767  0.800153      c1\n",
       "\n",
       "[7664 rows x 4 columns]"
      ]
     },
     "execution_count": 6,
     "metadata": {},
     "output_type": "execute_result"
    }
   ],
   "source": [
    "dmg_table"
   ]
  },
  {
   "cell_type": "markdown",
   "metadata": {
    "pycharm": {
     "name": "#%% md\n"
    }
   },
   "source": [
    "## Save"
   ]
  },
  {
   "cell_type": "code",
   "execution_count": 5,
   "metadata": {
    "ExecuteTime": {
     "end_time": "2022-08-09T21:57:48.001741Z",
     "start_time": "2022-08-09T21:57:47.620847Z"
    },
    "pycharm": {
     "name": "#%%\n"
    }
   },
   "outputs": [],
   "source": [
    "dmg_table.to_hdf(f'{cluster_col}.OneVsRestDMG.hdf', key='data')"
   ]
  },
  {
   "cell_type": "code",
   "execution_count": null,
   "metadata": {
    "pycharm": {
     "name": "#%%\n"
    }
   },
   "outputs": [],
   "source": []
  }
 ],
 "metadata": {
  "hide_input": false,
  "kernelspec": {
   "display_name": "Python 3 (ipykernel)",
   "language": "python",
   "name": "python3"
  },
  "language_info": {
   "codemirror_mode": {
    "name": "ipython",
    "version": 3
   },
   "file_extension": ".py",
   "mimetype": "text/x-python",
   "name": "python",
   "nbconvert_exporter": "python",
   "pygments_lexer": "ipython3",
   "version": "3.8.13"
  },
  "toc": {
   "base_numbering": 1,
   "nav_menu": {},
   "number_sections": true,
   "sideBar": true,
   "skip_h1_title": true,
   "title_cell": "Table of Contents",
   "title_sidebar": "Contents",
   "toc_cell": false,
   "toc_position": {},
   "toc_section_display": true,
   "toc_window_display": true
  }
 },
 "nbformat": 4,
 "nbformat_minor": 4
}
