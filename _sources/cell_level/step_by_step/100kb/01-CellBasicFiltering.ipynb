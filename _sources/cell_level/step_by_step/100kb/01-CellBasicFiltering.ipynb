{
 "cells": [
  {
   "cell_type": "markdown",
   "metadata": {
    "pycharm": {
     "name": "#%% md\n"
    }
   },
   "source": [
    "# Cell Basic Filtering\n",
    "\n",
    "## Content\n",
    "The purpose of this step is to get rid of cells having **obvious** issues, including the cells with low mapping rate (potentially contaminated), low final reads (empty well or lost a large amount of DNA during library prep.), or abnormal methylation fractions (failed in bisulfite conversion or contaminated).\n",
    "\n",
    "We have two principles when applying these filters:\n",
    "1. **We set the cutoff based on the distribution of the whole dataset**, where we assume the input dataset is largely successful (mostly > 80-90% cells will pass QC). The cutoffs below are typical values we used in brain methylome analysis. Still, you may need to adjust cutoffs based on different data quality or sample source.\n",
    "2. **The cutoff is intended to be loose.** We do not use stringent cutoffs here to prevent potential data loss. Abormal cells may remain after basic filtering, and will likely be identified in the analysis based filtering (see later notebooks about doublet score and outliers in clustering)\n",
    "\n",
    "## Input\n",
    "- Cell metadata table that contains mapping metric for basic QC filtering.\n",
    "\n",
    "## Output\n",
    "- Filtered cell metadata table that contains only cells passed QC.\n",
    "\n",
    "## About Cell Mapping Metrics\n",
    "We usually gather many mapping metrics from each processing step, but not all of the metrics are relevant to the cell filtering. Below are the most relevant metrics that we use to filter cells. The name of these metrics might be different in your dataset. Change it according to the file you have.\n",
    "\n",
    "If you use [YAP](https://hq-1.gitbook.io/mc) to do mapping, you can find up-to-date mapping metrics documentation for [key metrics](https://hq-1.gitbook.io/mc/mapping-metrics/key-mapping-metrics) and [all metrics](https://hq-1.gitbook.io/mc/mapping-metrics/all-mapping-metrics) in YAP doc."
   ]
  },
  {
   "cell_type": "markdown",
   "metadata": {
    "pycharm": {
     "name": "#%% md\n"
    }
   },
   "source": [
    "## Import"
   ]
  },
  {
   "cell_type": "code",
   "execution_count": 1,
   "metadata": {
    "ExecuteTime": {
     "end_time": "2022-08-09T20:17:37.432561Z",
     "start_time": "2022-08-09T20:17:35.525180Z"
    },
    "pycharm": {
     "name": "#%%\n"
    }
   },
   "outputs": [],
   "source": [
    "import pandas as pd\n",
    "import seaborn as sns"
   ]
  },
  {
   "cell_type": "code",
   "execution_count": 2,
   "metadata": {
    "ExecuteTime": {
     "end_time": "2022-08-09T20:17:37.750705Z",
     "start_time": "2022-08-09T20:17:37.666183Z"
    }
   },
   "outputs": [],
   "source": [
    "from ALLCools.dataset import ALLCoolsDataset\n",
    "brain_dataset = ALLCoolsDataset('/home/hanliu/cemba3c/projects/ALLCools/Brain/snmC-seq2/')"
   ]
  },
  {
   "cell_type": "markdown",
   "metadata": {
    "pycharm": {
     "name": "#%% md\n"
    }
   },
   "source": [
    "## Parameters"
   ]
  },
  {
   "cell_type": "code",
   "execution_count": 4,
   "metadata": {
    "ExecuteTime": {
     "end_time": "2022-08-09T20:17:53.000104Z",
     "start_time": "2022-08-09T20:17:52.994667Z"
    },
    "pycharm": {
     "name": "#%%\n"
    },
    "tags": [
     "parameters"
    ]
   },
   "outputs": [],
   "source": [
    "# Basic filtering parameters\n",
    "mapping_rate_cutoff = 0.5\n",
    "mapping_rate_col_name = 'MappingRate'  # Name may change\n",
    "final_reads_cutoff = 500000\n",
    "final_reads_col_name = 'FinalReads'  # Name may change\n",
    "mccc_cutoff = 0.03\n",
    "mccc_col_name = 'mCCCFrac'  # Name may change\n",
    "mch_cutoff = 0.2\n",
    "mch_col_name = 'mCHFrac'  # Name may change\n",
    "mcg_cutoff = 0.5\n",
    "mcg_col_name = 'mCGFrac'  # Name may change"
   ]
  },
  {
   "cell_type": "markdown",
   "metadata": {
    "pycharm": {
     "name": "#%% md\n"
    }
   },
   "source": [
    "## Load metadata"
   ]
  },
  {
   "cell_type": "code",
   "execution_count": 3,
   "metadata": {
    "ExecuteTime": {
     "end_time": "2022-08-09T20:17:50.586332Z",
     "start_time": "2022-08-09T20:17:50.510509Z"
    },
    "pycharm": {
     "name": "#%%\n"
    }
   },
   "outputs": [
    {
     "name": "stdout",
     "output_type": "stream",
     "text": [
      "Metadata of 4875 cells\n"
     ]
    }
   ],
   "source": [
    "metadata = pd.read_csv(brain_dataset.metadata_path, index_col=0)\n",
    "total_cells = metadata.shape[0]\n",
    "print(f'Metadata of {total_cells} cells')"
   ]
  },
  {
   "cell_type": "code",
   "execution_count": 5,
   "metadata": {
    "ExecuteTime": {
     "end_time": "2022-08-09T20:17:54.081340Z",
     "start_time": "2022-08-09T20:17:54.045033Z"
    },
    "pycharm": {
     "name": "#%%\n"
    }
   },
   "outputs": [
    {
     "data": {
      "text/html": [
       "<div>\n",
       "<style scoped>\n",
       "    .dataframe tbody tr th:only-of-type {\n",
       "        vertical-align: middle;\n",
       "    }\n",
       "\n",
       "    .dataframe tbody tr th {\n",
       "        vertical-align: top;\n",
       "    }\n",
       "\n",
       "    .dataframe thead th {\n",
       "        text-align: right;\n",
       "    }\n",
       "</style>\n",
       "<table border=\"1\" class=\"dataframe\">\n",
       "  <thead>\n",
       "    <tr style=\"text-align: right;\">\n",
       "      <th></th>\n",
       "      <th>AllcPath</th>\n",
       "      <th>mCCCFrac</th>\n",
       "      <th>mCGFrac</th>\n",
       "      <th>mCGFracAdj</th>\n",
       "      <th>mCHFrac</th>\n",
       "      <th>mCHFracAdj</th>\n",
       "      <th>FinalReads</th>\n",
       "      <th>InputReads</th>\n",
       "      <th>MappedReads</th>\n",
       "      <th>DissectionRegion</th>\n",
       "      <th>BamFilteringRate</th>\n",
       "      <th>MappingRate</th>\n",
       "      <th>Plate</th>\n",
       "      <th>Col384</th>\n",
       "      <th>Row384</th>\n",
       "      <th>FANSDate</th>\n",
       "      <th>Slice</th>\n",
       "      <th>Sample</th>\n",
       "    </tr>\n",
       "  </thead>\n",
       "  <tbody>\n",
       "    <tr>\n",
       "      <th>8E_M_10</th>\n",
       "      <td>/gale/raidix/rdx-4/mapping/8E/CEMBA190711-8E-1...</td>\n",
       "      <td>0.005505</td>\n",
       "      <td>0.744279</td>\n",
       "      <td>0.742863</td>\n",
       "      <td>0.020649</td>\n",
       "      <td>0.015228</td>\n",
       "      <td>2714916.0</td>\n",
       "      <td>6036476</td>\n",
       "      <td>4014048.0</td>\n",
       "      <td>8E</td>\n",
       "      <td>0.676354</td>\n",
       "      <td>0.664965</td>\n",
       "      <td>CEMBA190711-8E-1</td>\n",
       "      <td>19</td>\n",
       "      <td>0</td>\n",
       "      <td>190711</td>\n",
       "      <td>8</td>\n",
       "      <td>8E_190711</td>\n",
       "    </tr>\n",
       "    <tr>\n",
       "      <th>8E_M_100</th>\n",
       "      <td>/gale/raidix/rdx-4/mapping/8E/CEMBA190711-8E-1...</td>\n",
       "      <td>0.004702</td>\n",
       "      <td>0.723100</td>\n",
       "      <td>0.721792</td>\n",
       "      <td>0.012400</td>\n",
       "      <td>0.007735</td>\n",
       "      <td>3302547.0</td>\n",
       "      <td>7683706</td>\n",
       "      <td>5370970.0</td>\n",
       "      <td>8E</td>\n",
       "      <td>0.614888</td>\n",
       "      <td>0.699008</td>\n",
       "      <td>CEMBA190711-8E-2</td>\n",
       "      <td>1</td>\n",
       "      <td>2</td>\n",
       "      <td>190711</td>\n",
       "      <td>8</td>\n",
       "      <td>8E_190711</td>\n",
       "    </tr>\n",
       "    <tr>\n",
       "      <th>8E_M_1000</th>\n",
       "      <td>/gale/raidix/rdx-4/mapping/8E/CEMBA190711-8E-3...</td>\n",
       "      <td>0.005423</td>\n",
       "      <td>0.739960</td>\n",
       "      <td>0.738542</td>\n",
       "      <td>0.021733</td>\n",
       "      <td>0.016399</td>\n",
       "      <td>1369094.0</td>\n",
       "      <td>3658050</td>\n",
       "      <td>2381916.0</td>\n",
       "      <td>8E</td>\n",
       "      <td>0.574787</td>\n",
       "      <td>0.651144</td>\n",
       "      <td>CEMBA190711-8E-4</td>\n",
       "      <td>6</td>\n",
       "      <td>5</td>\n",
       "      <td>190711</td>\n",
       "      <td>8</td>\n",
       "      <td>8E_190711</td>\n",
       "    </tr>\n",
       "    <tr>\n",
       "      <th>8E_M_1002</th>\n",
       "      <td>/gale/raidix/rdx-4/mapping/8E/CEMBA190711-8E-3...</td>\n",
       "      <td>0.004117</td>\n",
       "      <td>0.745511</td>\n",
       "      <td>0.744459</td>\n",
       "      <td>0.010192</td>\n",
       "      <td>0.006101</td>\n",
       "      <td>4571390.0</td>\n",
       "      <td>11822434</td>\n",
       "      <td>8079217.0</td>\n",
       "      <td>8E</td>\n",
       "      <td>0.565821</td>\n",
       "      <td>0.683380</td>\n",
       "      <td>CEMBA190711-8E-4</td>\n",
       "      <td>7</td>\n",
       "      <td>5</td>\n",
       "      <td>190711</td>\n",
       "      <td>8</td>\n",
       "      <td>8E_190711</td>\n",
       "    </tr>\n",
       "    <tr>\n",
       "      <th>8E_M_1003</th>\n",
       "      <td>/gale/raidix/rdx-4/mapping/8E/CEMBA190711-8E-3...</td>\n",
       "      <td>0.005528</td>\n",
       "      <td>0.750461</td>\n",
       "      <td>0.749074</td>\n",
       "      <td>0.023083</td>\n",
       "      <td>0.017652</td>\n",
       "      <td>1334845.0</td>\n",
       "      <td>3479288</td>\n",
       "      <td>2337068.0</td>\n",
       "      <td>8E</td>\n",
       "      <td>0.571162</td>\n",
       "      <td>0.671709</td>\n",
       "      <td>CEMBA190711-8E-3</td>\n",
       "      <td>8</td>\n",
       "      <td>4</td>\n",
       "      <td>190711</td>\n",
       "      <td>8</td>\n",
       "      <td>8E_190711</td>\n",
       "    </tr>\n",
       "  </tbody>\n",
       "</table>\n",
       "</div>"
      ],
      "text/plain": [
       "                                                    AllcPath  mCCCFrac  \\\n",
       "8E_M_10    /gale/raidix/rdx-4/mapping/8E/CEMBA190711-8E-1...  0.005505   \n",
       "8E_M_100   /gale/raidix/rdx-4/mapping/8E/CEMBA190711-8E-1...  0.004702   \n",
       "8E_M_1000  /gale/raidix/rdx-4/mapping/8E/CEMBA190711-8E-3...  0.005423   \n",
       "8E_M_1002  /gale/raidix/rdx-4/mapping/8E/CEMBA190711-8E-3...  0.004117   \n",
       "8E_M_1003  /gale/raidix/rdx-4/mapping/8E/CEMBA190711-8E-3...  0.005528   \n",
       "\n",
       "            mCGFrac  mCGFracAdj   mCHFrac  mCHFracAdj  FinalReads  InputReads  \\\n",
       "8E_M_10    0.744279    0.742863  0.020649    0.015228   2714916.0     6036476   \n",
       "8E_M_100   0.723100    0.721792  0.012400    0.007735   3302547.0     7683706   \n",
       "8E_M_1000  0.739960    0.738542  0.021733    0.016399   1369094.0     3658050   \n",
       "8E_M_1002  0.745511    0.744459  0.010192    0.006101   4571390.0    11822434   \n",
       "8E_M_1003  0.750461    0.749074  0.023083    0.017652   1334845.0     3479288   \n",
       "\n",
       "           MappedReads DissectionRegion  BamFilteringRate  MappingRate  \\\n",
       "8E_M_10      4014048.0               8E          0.676354     0.664965   \n",
       "8E_M_100     5370970.0               8E          0.614888     0.699008   \n",
       "8E_M_1000    2381916.0               8E          0.574787     0.651144   \n",
       "8E_M_1002    8079217.0               8E          0.565821     0.683380   \n",
       "8E_M_1003    2337068.0               8E          0.571162     0.671709   \n",
       "\n",
       "                      Plate  Col384  Row384  FANSDate  Slice     Sample  \n",
       "8E_M_10    CEMBA190711-8E-1      19       0    190711      8  8E_190711  \n",
       "8E_M_100   CEMBA190711-8E-2       1       2    190711      8  8E_190711  \n",
       "8E_M_1000  CEMBA190711-8E-4       6       5    190711      8  8E_190711  \n",
       "8E_M_1002  CEMBA190711-8E-4       7       5    190711      8  8E_190711  \n",
       "8E_M_1003  CEMBA190711-8E-3       8       4    190711      8  8E_190711  "
      ]
     },
     "execution_count": 5,
     "metadata": {},
     "output_type": "execute_result"
    }
   ],
   "source": [
    "metadata.head()"
   ]
  },
  {
   "cell_type": "markdown",
   "metadata": {
    "pycharm": {
     "name": "#%% md\n"
    }
   },
   "source": [
    "## Filter by key mapping metrics"
   ]
  },
  {
   "cell_type": "markdown",
   "metadata": {
    "pycharm": {
     "name": "#%% md\n"
    }
   },
   "source": [
    "### Bismark Mapping Rate\n",
    "\n",
    "- Low mapping rate indicates potential contamination.\n",
    "- Usually R1 mapping rate is 8-10% higher than R2 mapping rate for snmC based technologies, but they should be highly correlated. Here I am using the combined mapping rate. If you are using the R1MappingRate or R2MappingRate, change the cutoff accordingly.\n",
    "- Usually there is a peak on the left, which corresponding to the empty wells."
   ]
  },
  {
   "cell_type": "code",
   "execution_count": 6,
   "metadata": {
    "ExecuteTime": {
     "end_time": "2022-08-09T20:17:58.429215Z",
     "start_time": "2022-08-09T20:17:55.892204Z"
    },
    "pycharm": {
     "name": "#%%\n"
    }
   },
   "outputs": [
    {
     "name": "stdout",
     "output_type": "stream",
     "text": [
      "4875 / 4875 cells (100.0%) passed the MappingRate cutoff 0.5.\n"
     ]
    },
    {
     "data": {
      "image/png": "[encoded data removed]",
      "text/plain": [
       "<Figure size 360x360 with 1 Axes>"
      ]
     },
     "metadata": {
      "needs_background": "light"
     },
     "output_type": "display_data"
    }
   ],
   "source": [
    "_cutoff = mapping_rate_cutoff\n",
    "_col_name = mapping_rate_col_name\n",
    "\n",
    "# plot distribution to make sure cutoff is appropriate\n",
    "g = sns.displot(metadata[_col_name], binrange=(0, 1))\n",
    "g.ax.plot((_cutoff, _cutoff), g.ax.get_ylim(), c='r', linestyle='--')\n",
    "\n",
    "mapping_rate_judge = metadata[_col_name] > _cutoff\n",
    "_passed_cells = mapping_rate_judge.sum()\n",
    "print(\n",
    "    f'{_passed_cells} / {total_cells} cells ({_passed_cells / total_cells * 100:.1f}%) '\n",
    "    f'passed the {_col_name} cutoff {_cutoff}.')"
   ]
  },
  {
   "cell_type": "markdown",
   "metadata": {
    "pycharm": {
     "name": "#%% md\n"
    }
   },
   "source": [
    "### Final Reads\n",
    "\n",
    "- The cutoff may change depending on how deep the library has been sequenced.\n",
    "- Usually there is a peak on the left, which corresponding to the empty wells.\n",
    "- There are also some cells having small number of reads, these wells may lost most of the DNA during library prep. Cells having too less reads can be hard to classify, since the methylome sequencing is an untargeted whole-genome sequencing."
   ]
  },
  {
   "cell_type": "code",
   "execution_count": 7,
   "metadata": {
    "ExecuteTime": {
     "end_time": "2022-08-09T20:18:01.345507Z",
     "start_time": "2022-08-09T20:18:00.105072Z"
    },
    "pycharm": {
     "name": "#%%\n"
    }
   },
   "outputs": [
    {
     "name": "stdout",
     "output_type": "stream",
     "text": [
      "4875 / 4875 cells (100.0%) passed the FinalReads cutoff 500000.\n"
     ]
    },
    {
     "data": {
      "image/png": "[encoded data removed]",
      "text/plain": [
       "<Figure size 360x360 with 1 Axes>"
      ]
     },
     "metadata": {
      "needs_background": "light"
     },
     "output_type": "display_data"
    }
   ],
   "source": [
    "_cutoff = final_reads_cutoff\n",
    "_col_name = final_reads_col_name\n",
    "\n",
    "# plot distribution to make sure cutoff is appropriate\n",
    "g = sns.displot(metadata[_col_name], binrange=(0, 5e6))\n",
    "g.ax.plot((_cutoff, _cutoff), g.ax.get_ylim(), c='r', linestyle='--')\n",
    "\n",
    "final_reads_judge = metadata[_col_name] > _cutoff\n",
    "_passed_cells = final_reads_judge.sum()\n",
    "print(\n",
    "    f'{_passed_cells} / {total_cells} cells ({_passed_cells / total_cells * 100:.1f}%) '\n",
    "    f'passed the {_col_name} cutoff {_cutoff}.')"
   ]
  },
  {
   "cell_type": "markdown",
   "metadata": {
    "ExecuteTime": {
     "end_time": "2020-11-20T06:02:55.688824Z",
     "start_time": "2020-11-20T06:02:55.685441Z"
    },
    "pycharm": {
     "name": "#%% md\n"
    }
   },
   "source": [
    "### mCCC / CCC\n",
    "\n",
    "- The mCCC fraction is used as the proxy of the upper bound of the non-conversion rate for cell-level QC. The methylation level at CCC sites is the lowest among all of the different 3 base-contexts (CNN), and, in fact, it is very close to the unmethylated lambda mC fraction.\n",
    "- However, mCCC fraction is correlated with mCH (especially in brain data), so you can see a similar shape of distribution of mCCC and mCH, but the range is different."
   ]
  },
  {
   "cell_type": "code",
   "execution_count": 8,
   "metadata": {
    "ExecuteTime": {
     "end_time": "2022-08-09T20:18:03.279033Z",
     "start_time": "2022-08-09T20:18:01.571303Z"
    },
    "pycharm": {
     "name": "#%%\n"
    }
   },
   "outputs": [
    {
     "name": "stdout",
     "output_type": "stream",
     "text": [
      "4875 / 4875 cells (100.0%) passed the mCCCFrac cutoff 0.03.\n"
     ]
    },
    {
     "data": {
      "image/png": "[encoded data removed]",
      "text/plain": [
       "<Figure size 360x360 with 1 Axes>"
      ]
     },
     "metadata": {
      "needs_background": "light"
     },
     "output_type": "display_data"
    }
   ],
   "source": [
    "_cutoff = mccc_cutoff\n",
    "_col_name = mccc_col_name\n",
    "\n",
    "# plot distribution to make sure cutoff is appropriate\n",
    "g = sns.displot(metadata[_col_name], binrange=(0, 0.05))\n",
    "g.ax.plot((_cutoff, _cutoff), g.ax.get_ylim(), c='r', linestyle='--')\n",
    "\n",
    "mccc_judge = metadata[_col_name] < _cutoff\n",
    "_passed_cells = mccc_judge.sum()\n",
    "print(\n",
    "    f'{_passed_cells} / {total_cells} cells ({_passed_cells / total_cells * 100:.1f}%) '\n",
    "    f'passed the {_col_name} cutoff {_cutoff}.')"
   ]
  },
  {
   "cell_type": "markdown",
   "metadata": {
    "pycharm": {
     "name": "#%% md\n"
    }
   },
   "source": [
    "### mCH / CH\n",
    "\n",
    "- Usually failed cells (empty well or contaminated) tend to have abormal methylation level as well."
   ]
  },
  {
   "cell_type": "code",
   "execution_count": 9,
   "metadata": {
    "ExecuteTime": {
     "end_time": "2022-08-09T20:18:04.870429Z",
     "start_time": "2022-08-09T20:18:03.288769Z"
    },
    "pycharm": {
     "name": "#%%\n"
    }
   },
   "outputs": [
    {
     "name": "stdout",
     "output_type": "stream",
     "text": [
      "4875 / 4875 cells (100.0%) passed the mCHFrac cutoff 0.2.\n"
     ]
    },
    {
     "data": {
      "image/png": "[encoded data removed]",
      "text/plain": [
       "<Figure size 360x360 with 1 Axes>"
      ]
     },
     "metadata": {
      "needs_background": "light"
     },
     "output_type": "display_data"
    }
   ],
   "source": [
    "_cutoff = mch_cutoff\n",
    "_col_name = mch_col_name\n",
    "\n",
    "# plot distribution to make sure cutoff is appropriate\n",
    "g = sns.displot(metadata[_col_name], binrange=(0, 0.3))\n",
    "g.ax.plot((_cutoff, _cutoff), g.ax.get_ylim(), c='r', linestyle='--')\n",
    "\n",
    "mch_judge = metadata[_col_name] < _cutoff\n",
    "_passed_cells = mch_judge.sum()\n",
    "print(\n",
    "    f'{_passed_cells} / {total_cells} cells ({_passed_cells / total_cells * 100:.1f}%) '\n",
    "    f'passed the {_col_name} cutoff {_cutoff}.')"
   ]
  },
  {
   "cell_type": "markdown",
   "metadata": {
    "ExecuteTime": {
     "end_time": "2020-11-20T06:03:55.014141Z",
     "start_time": "2020-11-20T06:03:55.011844Z"
    },
    "pycharm": {
     "name": "#%% md\n"
    }
   },
   "source": [
    "### mCG\n",
    "\n",
    "- Usually failed cells (empty well or contaminated) tend to have abormal methylation level as well."
   ]
  },
  {
   "cell_type": "code",
   "execution_count": 10,
   "metadata": {
    "ExecuteTime": {
     "end_time": "2022-08-09T20:18:07.014061Z",
     "start_time": "2022-08-09T20:18:04.881840Z"
    },
    "pycharm": {
     "name": "#%%\n"
    },
    "scrolled": false
   },
   "outputs": [
    {
     "name": "stdout",
     "output_type": "stream",
     "text": [
      "4875 / 4875 cells (100.0%) passed the mCGFrac cutoff 0.5.\n"
     ]
    },
    {
     "data": {
      "image/png": "[encoded data removed]",
      "text/plain": [
       "<Figure size 360x360 with 1 Axes>"
      ]
     },
     "metadata": {
      "needs_background": "light"
     },
     "output_type": "display_data"
    }
   ],
   "source": [
    "_cutoff = mcg_cutoff\n",
    "_col_name = mcg_col_name\n",
    "\n",
    "# plot distribution to make sure cutoff is appropriate\n",
    "g = sns.displot(metadata[_col_name], binrange=(0.3, 1))\n",
    "g.ax.plot((_cutoff, _cutoff), g.ax.get_ylim(), c='r', linestyle='--')\n",
    "\n",
    "mcg_judge = metadata[_col_name] > _cutoff\n",
    "_passed_cells = mcg_judge.sum()\n",
    "print(\n",
    "    f'{_passed_cells} / {total_cells} cells ({_passed_cells / total_cells * 100:.1f}%) '\n",
    "    f'passed the {_col_name} cutoff {_cutoff}.')"
   ]
  },
  {
   "cell_type": "markdown",
   "metadata": {
    "pycharm": {
     "name": "#%% md\n"
    }
   },
   "source": [
    "## Combine filters"
   ]
  },
  {
   "cell_type": "code",
   "execution_count": 11,
   "metadata": {
    "ExecuteTime": {
     "end_time": "2022-08-09T20:18:07.029927Z",
     "start_time": "2022-08-09T20:18:07.020918Z"
    },
    "pycharm": {
     "name": "#%%\n"
    }
   },
   "outputs": [
    {
     "name": "stdout",
     "output_type": "stream",
     "text": [
      "4875 / 4875 cells (100.0%) passed all the filters.\n"
     ]
    }
   ],
   "source": [
    "judge = mapping_rate_judge & final_reads_judge & mccc_judge & mch_judge & mcg_judge\n",
    "passed_cells = judge.sum()\n",
    "print(\n",
    "    f'{passed_cells} / {total_cells} cells ({passed_cells / total_cells * 100:.1f}%) '\n",
    "    f'passed all the filters.')"
   ]
  },
  {
   "cell_type": "markdown",
   "metadata": {
    "pycharm": {
     "name": "#%% md\n"
    }
   },
   "source": [
    "## Sanity Test"
   ]
  },
  {
   "cell_type": "code",
   "execution_count": 12,
   "metadata": {
    "ExecuteTime": {
     "end_time": "2022-08-09T20:18:08.968340Z",
     "start_time": "2022-08-09T20:18:08.957425Z"
    },
    "pycharm": {
     "name": "#%%\n"
    }
   },
   "outputs": [
    {
     "name": "stdout",
     "output_type": "stream",
     "text": [
      "Feel good\n"
     ]
    }
   ],
   "source": [
    "try:\n",
    "    assert (passed_cells / total_cells) > 0.6\n",
    "except AssertionError as e:\n",
    "    e.args += (\n",
    "        'A large amount of the cells do not pass filter, check your cutoffs or overall dataset quality.',\n",
    "    )\n",
    "    raise e\n",
    "\n",
    "try:\n",
    "    assert passed_cells > 0\n",
    "except AssertionError as e:\n",
    "    e.args += ('No cell remained after all the filters.', )\n",
    "    raise e\n",
    "\n",
    "print('Feel good')"
   ]
  },
  {
   "cell_type": "markdown",
   "metadata": {
    "pycharm": {
     "name": "#%% md\n"
    }
   },
   "source": [
    "## Save filtered metadata"
   ]
  },
  {
   "cell_type": "code",
   "execution_count": 13,
   "metadata": {
    "ExecuteTime": {
     "end_time": "2022-08-09T20:18:10.259912Z",
     "start_time": "2022-08-09T20:18:09.605829Z"
    },
    "pycharm": {
     "name": "#%%\n"
    }
   },
   "outputs": [],
   "source": [
    "metadata_filtered = metadata[judge].copy()\n",
    "\n",
    "metadata_filtered.to_csv('CellMetadata.PassQC.csv.gz')"
   ]
  },
  {
   "cell_type": "code",
   "execution_count": 14,
   "metadata": {
    "ExecuteTime": {
     "end_time": "2022-08-09T20:18:10.341599Z",
     "start_time": "2022-08-09T20:18:10.267314Z"
    },
    "pycharm": {
     "name": "#%%\n"
    }
   },
   "outputs": [
    {
     "data": {
      "text/html": [
       "<div>\n",
       "<style scoped>\n",
       "    .dataframe tbody tr th:only-of-type {\n",
       "        vertical-align: middle;\n",
       "    }\n",
       "\n",
       "    .dataframe tbody tr th {\n",
       "        vertical-align: top;\n",
       "    }\n",
       "\n",
       "    .dataframe thead th {\n",
       "        text-align: right;\n",
       "    }\n",
       "</style>\n",
       "<table border=\"1\" class=\"dataframe\">\n",
       "  <thead>\n",
       "    <tr style=\"text-align: right;\">\n",
       "      <th></th>\n",
       "      <th>AllcPath</th>\n",
       "      <th>mCCCFrac</th>\n",
       "      <th>mCGFrac</th>\n",
       "      <th>mCGFracAdj</th>\n",
       "      <th>mCHFrac</th>\n",
       "      <th>mCHFracAdj</th>\n",
       "      <th>FinalReads</th>\n",
       "      <th>InputReads</th>\n",
       "      <th>MappedReads</th>\n",
       "      <th>DissectionRegion</th>\n",
       "      <th>BamFilteringRate</th>\n",
       "      <th>MappingRate</th>\n",
       "      <th>Plate</th>\n",
       "      <th>Col384</th>\n",
       "      <th>Row384</th>\n",
       "      <th>FANSDate</th>\n",
       "      <th>Slice</th>\n",
       "      <th>Sample</th>\n",
       "    </tr>\n",
       "  </thead>\n",
       "  <tbody>\n",
       "    <tr>\n",
       "      <th>8E_M_10</th>\n",
       "      <td>/gale/raidix/rdx-4/mapping/8E/CEMBA190711-8E-1...</td>\n",
       "      <td>0.005505</td>\n",
       "      <td>0.744279</td>\n",
       "      <td>0.742863</td>\n",
       "      <td>0.020649</td>\n",
       "      <td>0.015228</td>\n",
       "      <td>2714916.0</td>\n",
       "      <td>6036476</td>\n",
       "      <td>4014048.0</td>\n",
       "      <td>8E</td>\n",
       "      <td>0.676354</td>\n",
       "      <td>0.664965</td>\n",
       "      <td>CEMBA190711-8E-1</td>\n",
       "      <td>19</td>\n",
       "      <td>0</td>\n",
       "      <td>190711</td>\n",
       "      <td>8</td>\n",
       "      <td>8E_190711</td>\n",
       "    </tr>\n",
       "    <tr>\n",
       "      <th>8E_M_100</th>\n",
       "      <td>/gale/raidix/rdx-4/mapping/8E/CEMBA190711-8E-1...</td>\n",
       "      <td>0.004702</td>\n",
       "      <td>0.723100</td>\n",
       "      <td>0.721792</td>\n",
       "      <td>0.012400</td>\n",
       "      <td>0.007735</td>\n",
       "      <td>3302547.0</td>\n",
       "      <td>7683706</td>\n",
       "      <td>5370970.0</td>\n",
       "      <td>8E</td>\n",
       "      <td>0.614888</td>\n",
       "      <td>0.699008</td>\n",
       "      <td>CEMBA190711-8E-2</td>\n",
       "      <td>1</td>\n",
       "      <td>2</td>\n",
       "      <td>190711</td>\n",
       "      <td>8</td>\n",
       "      <td>8E_190711</td>\n",
       "    </tr>\n",
       "    <tr>\n",
       "      <th>8E_M_1000</th>\n",
       "      <td>/gale/raidix/rdx-4/mapping/8E/CEMBA190711-8E-3...</td>\n",
       "      <td>0.005423</td>\n",
       "      <td>0.739960</td>\n",
       "      <td>0.738542</td>\n",
       "      <td>0.021733</td>\n",
       "      <td>0.016399</td>\n",
       "      <td>1369094.0</td>\n",
       "      <td>3658050</td>\n",
       "      <td>2381916.0</td>\n",
       "      <td>8E</td>\n",
       "      <td>0.574787</td>\n",
       "      <td>0.651144</td>\n",
       "      <td>CEMBA190711-8E-4</td>\n",
       "      <td>6</td>\n",
       "      <td>5</td>\n",
       "      <td>190711</td>\n",
       "      <td>8</td>\n",
       "      <td>8E_190711</td>\n",
       "    </tr>\n",
       "    <tr>\n",
       "      <th>8E_M_1002</th>\n",
       "      <td>/gale/raidix/rdx-4/mapping/8E/CEMBA190711-8E-3...</td>\n",
       "      <td>0.004117</td>\n",
       "      <td>0.745511</td>\n",
       "      <td>0.744459</td>\n",
       "      <td>0.010192</td>\n",
       "      <td>0.006101</td>\n",
       "      <td>4571390.0</td>\n",
       "      <td>11822434</td>\n",
       "      <td>8079217.0</td>\n",
       "      <td>8E</td>\n",
       "      <td>0.565821</td>\n",
       "      <td>0.683380</td>\n",
       "      <td>CEMBA190711-8E-4</td>\n",
       "      <td>7</td>\n",
       "      <td>5</td>\n",
       "      <td>190711</td>\n",
       "      <td>8</td>\n",
       "      <td>8E_190711</td>\n",
       "    </tr>\n",
       "    <tr>\n",
       "      <th>8E_M_1003</th>\n",
       "      <td>/gale/raidix/rdx-4/mapping/8E/CEMBA190711-8E-3...</td>\n",
       "      <td>0.005528</td>\n",
       "      <td>0.750461</td>\n",
       "      <td>0.749074</td>\n",
       "      <td>0.023083</td>\n",
       "      <td>0.017652</td>\n",
       "      <td>1334845.0</td>\n",
       "      <td>3479288</td>\n",
       "      <td>2337068.0</td>\n",
       "      <td>8E</td>\n",
       "      <td>0.571162</td>\n",
       "      <td>0.671709</td>\n",
       "      <td>CEMBA190711-8E-3</td>\n",
       "      <td>8</td>\n",
       "      <td>4</td>\n",
       "      <td>190711</td>\n",
       "      <td>8</td>\n",
       "      <td>8E_190711</td>\n",
       "    </tr>\n",
       "  </tbody>\n",
       "</table>\n",
       "</div>"
      ],
      "text/plain": [
       "                                                    AllcPath  mCCCFrac  \\\n",
       "8E_M_10    /gale/raidix/rdx-4/mapping/8E/CEMBA190711-8E-1...  0.005505   \n",
       "8E_M_100   /gale/raidix/rdx-4/mapping/8E/CEMBA190711-8E-1...  0.004702   \n",
       "8E_M_1000  /gale/raidix/rdx-4/mapping/8E/CEMBA190711-8E-3...  0.005423   \n",
       "8E_M_1002  /gale/raidix/rdx-4/mapping/8E/CEMBA190711-8E-3...  0.004117   \n",
       "8E_M_1003  /gale/raidix/rdx-4/mapping/8E/CEMBA190711-8E-3...  0.005528   \n",
       "\n",
       "            mCGFrac  mCGFracAdj   mCHFrac  mCHFracAdj  FinalReads  InputReads  \\\n",
       "8E_M_10    0.744279    0.742863  0.020649    0.015228   2714916.0     6036476   \n",
       "8E_M_100   0.723100    0.721792  0.012400    0.007735   3302547.0     7683706   \n",
       "8E_M_1000  0.739960    0.738542  0.021733    0.016399   1369094.0     3658050   \n",
       "8E_M_1002  0.745511    0.744459  0.010192    0.006101   4571390.0    11822434   \n",
       "8E_M_1003  0.750461    0.749074  0.023083    0.017652   1334845.0     3479288   \n",
       "\n",
       "           MappedReads DissectionRegion  BamFilteringRate  MappingRate  \\\n",
       "8E_M_10      4014048.0               8E          0.676354     0.664965   \n",
       "8E_M_100     5370970.0               8E          0.614888     0.699008   \n",
       "8E_M_1000    2381916.0               8E          0.574787     0.651144   \n",
       "8E_M_1002    8079217.0               8E          0.565821     0.683380   \n",
       "8E_M_1003    2337068.0               8E          0.571162     0.671709   \n",
       "\n",
       "                      Plate  Col384  Row384  FANSDate  Slice     Sample  \n",
       "8E_M_10    CEMBA190711-8E-1      19       0    190711      8  8E_190711  \n",
       "8E_M_100   CEMBA190711-8E-2       1       2    190711      8  8E_190711  \n",
       "8E_M_1000  CEMBA190711-8E-4       6       5    190711      8  8E_190711  \n",
       "8E_M_1002  CEMBA190711-8E-4       7       5    190711      8  8E_190711  \n",
       "8E_M_1003  CEMBA190711-8E-3       8       4    190711      8  8E_190711  "
      ]
     },
     "execution_count": 14,
     "metadata": {},
     "output_type": "execute_result"
    }
   ],
   "source": [
    "metadata_filtered.head()"
   ]
  },
  {
   "cell_type": "code",
   "execution_count": null,
   "metadata": {
    "pycharm": {
     "name": "#%%\n"
    }
   },
   "outputs": [],
   "source": []
  }
 ],
 "metadata": {
  "hide_input": false,
  "kernelspec": {
   "display_name": "Python 3 (ipykernel)",
   "language": "python",
   "name": "python3"
  },
  "language_info": {
   "codemirror_mode": {
    "name": "ipython",
    "version": 3
   },
   "file_extension": ".py",
   "mimetype": "text/x-python",
   "name": "python",
   "nbconvert_exporter": "python",
   "pygments_lexer": "ipython3",
   "version": "3.8.13"
  },
  "toc": {
   "base_numbering": 1,
   "nav_menu": {},
   "number_sections": true,
   "sideBar": true,
   "skip_h1_title": true,
   "title_cell": "Table of Contents",
   "title_sidebar": "Contents",
   "toc_cell": false,
   "toc_position": {},
   "toc_section_display": true,
   "toc_window_display": true
  }
 },
 "nbformat": 4,
 "nbformat_minor": 4
}
